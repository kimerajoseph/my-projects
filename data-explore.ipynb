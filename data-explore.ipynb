{
 "cells": [
  {
   "cell_type": "code",
   "execution_count": 219,
   "metadata": {},
   "outputs": [],
   "source": [
    "import pandas as pd"
   ]
  },
  {
   "cell_type": "code",
   "execution_count": null,
   "metadata": {},
   "outputs": [],
   "source": [
    "data = pd.read_csv(\"test.csv\", header=None)\n",
    "data.head()"
   ]
  },
  {
   "attachments": {},
   "cell_type": "markdown",
   "metadata": {},
   "source": [
    "### Rename columns"
   ]
  },
  {
   "cell_type": "code",
   "execution_count": null,
   "metadata": {},
   "outputs": [],
   "source": [
    "def clean_data():\n",
    "    # rename columns\n",
    "    data.columns = ['datetime', 'event']\n",
    "    # filter data \n",
    "    data = data[(data.datetime != \"time\") | (data.event != \"event\") ]\n",
    "    data.event = data.event.str.lower()\n",
    "\n",
    "    # covert datetime column to datetime object. SHOULD BE DONE AFTER FILTERING. ELSE, ERRORS\n",
    "    data.datetime = pd.to_datetime(data.datetime)\n",
    "\n",
    "    data[\"month\"] = data.datetime.dt.month_name()\n",
    "    data[\"time\"] = data.datetime.dt.time"
   ]
  },
  {
   "cell_type": "code",
   "execution_count": null,
   "metadata": {},
   "outputs": [],
   "source": [
    "data.columns = ['datetime', 'event']\n",
    "data.head()"
   ]
  },
  {
   "cell_type": "code",
   "execution_count": 222,
   "metadata": {},
   "outputs": [],
   "source": [
    "data = data[(data.datetime != \"time\") | (data.event != \"event\") ]"
   ]
  },
  {
   "cell_type": "code",
   "execution_count": null,
   "metadata": {},
   "outputs": [],
   "source": [
    "data.iloc[15980]"
   ]
  },
  {
   "cell_type": "code",
   "execution_count": null,
   "metadata": {},
   "outputs": [],
   "source": [
    "#data.datetime = pd.to_datetime(data.iloc[:,0])\n",
    "data.datetime = pd.to_datetime(data.datetime)\n",
    "data.dtypes\n"
   ]
  },
  {
   "cell_type": "code",
   "execution_count": null,
   "metadata": {},
   "outputs": [],
   "source": [
    "data[\"month\"] = data.datetime.dt.month_name()\n",
    "data[\"date\"] = data.datetime.dt.time\n",
    "data.head()"
   ]
  },
  {
   "cell_type": "code",
   "execution_count": null,
   "metadata": {},
   "outputs": [],
   "source": [
    "data.event = data.event.str.lower()\n",
    "data.head()"
   ]
  },
  {
   "cell_type": "code",
   "execution_count": 227,
   "metadata": {},
   "outputs": [],
   "source": [
    "#data.to_csv(\"clean_data.csv\")"
   ]
  },
  {
   "cell_type": "code",
   "execution_count": 228,
   "metadata": {},
   "outputs": [],
   "source": [
    "classify_list = [\"station supply fail\",\"trip cct fault\",\"dc power failure\",\"cb lockout locked\",\"cb backup trip\",\n",
    "\"cb back prot trip\",\"dc fault\",\"homa station supply fail fault\"]\n",
    "def classify_events(row):  \n",
    "    for s in classify_list:\n",
    "        if s in row:\n",
    "            return \"critical\"\n",
    "\n",
    "        else:\n",
    "            return \"normal\"\n"
   ]
  },
  {
   "cell_type": "code",
   "execution_count": null,
   "metadata": {},
   "outputs": [],
   "source": [
    "#df = df.apply(lambda row : replace(row))\n",
    "data['type'] = data['event'].apply(lambda row: classify_events(row))\n",
    "data.head()"
   ]
  },
  {
   "cell_type": "code",
   "execution_count": 230,
   "metadata": {},
   "outputs": [
    {
     "data": {
      "text/plain": [
       "normal      15945\n",
       "critical       60\n",
       "Name: type, dtype: int64"
      ]
     },
     "execution_count": 230,
     "metadata": {},
     "output_type": "execute_result"
    }
   ],
   "source": [
    "data.type.value_counts()"
   ]
  },
  {
   "cell_type": "code",
   "execution_count": 231,
   "metadata": {},
   "outputs": [],
   "source": [
    "# [i for e in bad for i in my_list if e in i]\n",
    "# for i in check_list:\n",
    "#     for e in classify_list:\n",
    "#         if e in i:\n",
    "#             my_list.append(i)\n",
    "\n",
    "# my_list"
   ]
  },
  {
   "cell_type": "code",
   "execution_count": 232,
   "metadata": {},
   "outputs": [
    {
     "data": {
      "text/plain": [
       "(60, 5)"
      ]
     },
     "execution_count": 232,
     "metadata": {},
     "output_type": "execute_result"
    }
   ],
   "source": [
    "ciritcal_data = data[data['type'] == 'critical']\n",
    "ciritcal_data.shape"
   ]
  },
  {
   "cell_type": "code",
   "execution_count": 61,
   "metadata": {},
   "outputs": [
    {
     "data": {
      "text/plain": [
       "True"
      ]
     },
     "execution_count": 61,
     "metadata": {},
     "output_type": "execute_result"
    }
   ],
   "source": [
    "import pandas as pd\n",
    "import pymysql\n",
    "from sqlalchemy import create_engine\n",
    "from dotenv import load_dotenv\n",
    "import os\n",
    "from datetime import datetime, timedelta\n",
    "\n",
    "load_dotenv()\n"
   ]
  },
  {
   "cell_type": "code",
   "execution_count": 62,
   "metadata": {},
   "outputs": [],
   "source": [
    "host = os.getenv(\"HOST\")\n",
    "db_username = os.getenv(\"DB_USERNAME\")\n",
    "password = os.getenv(\"PASSWORD\")\n",
    "db_name = os.getenv(\"LOCAL_DB\")\n",
    "port = os.getenv(\"PORT\")"
   ]
  },
  {
   "cell_type": "code",
   "execution_count": 63,
   "metadata": {},
   "outputs": [],
   "source": [
    "engine = create_engine(f'mysql+pymysql://root:{password}@{host}/{db_name}')"
   ]
  },
  {
   "cell_type": "code",
   "execution_count": null,
   "metadata": {},
   "outputs": [],
   "source": [
    "raw_data = pd.read_excel(\"SOE_4th_22nd_Nov_2022.xlsx\", sheet_name=0, header=None)\n",
    "raw_data.columns = ['datetime', 'event']\n",
    "raw_data.head()"
   ]
  },
  {
   "cell_type": "code",
   "execution_count": 65,
   "metadata": {},
   "outputs": [],
   "source": [
    "raw_data.to_sql(con=engine, name=\"scada_data\", if_exists=\"append\")"
   ]
  },
  {
   "attachments": {},
   "cell_type": "markdown",
   "metadata": {},
   "source": [
    "## Get raw data from database"
   ]
  },
  {
   "cell_type": "code",
   "execution_count": null,
   "metadata": {},
   "outputs": [],
   "source": [
    "db_data = pd.read_sql(\"SELECT * FROM scada_data\", con=engine)\n",
    "db_data.head()"
   ]
  },
  {
   "cell_type": "code",
   "execution_count": 69,
   "metadata": {},
   "outputs": [
    {
     "name": "stdout",
     "output_type": "stream",
     "text": [
      "2022-12-18\n"
     ]
    },
    {
     "data": {
      "text/plain": [
       "str"
      ]
     },
     "execution_count": 69,
     "metadata": {},
     "output_type": "execute_result"
    }
   ],
   "source": [
    "today_date = datetime.today().strftime('%Y-%m-%d')\n",
    "print(today_date)\n",
    "type(today_date)"
   ]
  },
  {
   "cell_type": "code",
   "execution_count": 70,
   "metadata": {},
   "outputs": [
    {
     "name": "stdout",
     "output_type": "stream",
     "text": [
      "2022-11-23\n"
     ]
    },
    {
     "data": {
      "text/plain": [
       "str"
      ]
     },
     "execution_count": 70,
     "metadata": {},
     "output_type": "execute_result"
    }
   ],
   "source": [
    "serach_date = datetime.strftime(datetime.now() - timedelta(25), '%Y-%m-%d')\n",
    "print(serach_date)\n",
    "type(serach_date)"
   ]
  },
  {
   "cell_type": "code",
   "execution_count": 71,
   "metadata": {},
   "outputs": [],
   "source": [
    "past_days = 37"
   ]
  },
  {
   "cell_type": "code",
   "execution_count": 72,
   "metadata": {},
   "outputs": [
    {
     "data": {
      "text/html": [
       "<div>\n",
       "<style scoped>\n",
       "    .dataframe tbody tr th:only-of-type {\n",
       "        vertical-align: middle;\n",
       "    }\n",
       "\n",
       "    .dataframe tbody tr th {\n",
       "        vertical-align: top;\n",
       "    }\n",
       "\n",
       "    .dataframe thead th {\n",
       "        text-align: right;\n",
       "    }\n",
       "</style>\n",
       "<table border=\"1\" class=\"dataframe\">\n",
       "  <thead>\n",
       "    <tr style=\"text-align: right;\">\n",
       "      <th></th>\n",
       "      <th>index</th>\n",
       "      <th>datetime</th>\n",
       "      <th>event</th>\n",
       "    </tr>\n",
       "  </thead>\n",
       "  <tbody>\n",
       "    <tr>\n",
       "      <th>0</th>\n",
       "      <td>5267</td>\n",
       "      <td>2022-11-11 00:07:02</td>\n",
       "      <td>LIRA 33 BS CB Closed</td>\n",
       "    </tr>\n",
       "    <tr>\n",
       "      <th>1</th>\n",
       "      <td>5268</td>\n",
       "      <td>2022-11-11 00:18:25</td>\n",
       "      <td>MBRN 33 KBLE CB Main Prot Trip</td>\n",
       "    </tr>\n",
       "    <tr>\n",
       "      <th>2</th>\n",
       "      <td>5269</td>\n",
       "      <td>2022-11-11 00:18:25</td>\n",
       "      <td>MBRN 33 KBLE CB Lockout Locked</td>\n",
       "    </tr>\n",
       "    <tr>\n",
       "      <th>3</th>\n",
       "      <td>5270</td>\n",
       "      <td>2022-11-11 00:18:25</td>\n",
       "      <td>MBRN 33 KBLE CB Open</td>\n",
       "    </tr>\n",
       "    <tr>\n",
       "      <th>4</th>\n",
       "      <td>5271</td>\n",
       "      <td>2022-11-11 00:18:25</td>\n",
       "      <td>MBRN 33 KBLE CB Aux DC Fault</td>\n",
       "    </tr>\n",
       "  </tbody>\n",
       "</table>\n",
       "</div>"
      ],
      "text/plain": [
       "   index            datetime                           event\n",
       "0   5267 2022-11-11 00:07:02            LIRA 33 BS CB Closed\n",
       "1   5268 2022-11-11 00:18:25  MBRN 33 KBLE CB Main Prot Trip\n",
       "2   5269 2022-11-11 00:18:25  MBRN 33 KBLE CB Lockout Locked\n",
       "3   5270 2022-11-11 00:18:25            MBRN 33 KBLE CB Open\n",
       "4   5271 2022-11-11 00:18:25    MBRN 33 KBLE CB Aux DC Fault"
      ]
     },
     "execution_count": 72,
     "metadata": {},
     "output_type": "execute_result"
    }
   ],
   "source": [
    "sql_query = \"SELECT * FROM scada_data WHERE DATE(datetime) = %(serach_date)s\"\n",
    "my_params={\"serach_date\":datetime.strftime(datetime.now() - timedelta(past_days), '%Y-%m-%d')}\n",
    "filtered_data = pd.read_sql(sql_query,con=engine, params=my_params)\n",
    "\n",
    "filtered_data.head()"
   ]
  },
  {
   "cell_type": "code",
   "execution_count": 73,
   "metadata": {},
   "outputs": [
    {
     "data": {
      "text/plain": [
       "(807, 3)"
      ]
     },
     "execution_count": 73,
     "metadata": {},
     "output_type": "execute_result"
    }
   ],
   "source": [
    "filtered_data.shape"
   ]
  },
  {
   "attachments": {},
   "cell_type": "markdown",
   "metadata": {},
   "source": [
    "## store substation details in a db table"
   ]
  },
  {
   "cell_type": "code",
   "execution_count": 81,
   "metadata": {},
   "outputs": [],
   "source": [
    "substation_data = pd.read_excel(\"substation details.xlsx\", index_col=\"no\",sheet_name=0)\n",
    "substation_data.columns = substation_data.columns.str.lower().str.replace(\" \",\"_\")\n",
    "#substation_data.columns\n",
    "substation_data.to_sql(con=engine, name=\"substation_data\", if_exists=\"append\")"
   ]
  },
  {
   "cell_type": "code",
   "execution_count": 82,
   "metadata": {},
   "outputs": [
    {
     "data": {
      "text/html": [
       "<div>\n",
       "<style scoped>\n",
       "    .dataframe tbody tr th:only-of-type {\n",
       "        vertical-align: middle;\n",
       "    }\n",
       "\n",
       "    .dataframe tbody tr th {\n",
       "        vertical-align: top;\n",
       "    }\n",
       "\n",
       "    .dataframe thead th {\n",
       "        text-align: right;\n",
       "    }\n",
       "</style>\n",
       "<table border=\"1\" class=\"dataframe\">\n",
       "  <thead>\n",
       "    <tr style=\"text-align: right;\">\n",
       "      <th></th>\n",
       "      <th>substation_acronym</th>\n",
       "      <th>critical_level</th>\n",
       "      <th>substation_name</th>\n",
       "    </tr>\n",
       "  </thead>\n",
       "  <tbody>\n",
       "    <tr>\n",
       "      <th>0</th>\n",
       "      <td>mskw</td>\n",
       "      <td>3</td>\n",
       "      <td>masaka west</td>\n",
       "    </tr>\n",
       "    <tr>\n",
       "      <th>1</th>\n",
       "      <td>nkda</td>\n",
       "      <td>4</td>\n",
       "      <td>nkenda</td>\n",
       "    </tr>\n",
       "    <tr>\n",
       "      <th>2</th>\n",
       "      <td>owfs</td>\n",
       "      <td>5</td>\n",
       "      <td>owen falls</td>\n",
       "    </tr>\n",
       "    <tr>\n",
       "      <th>3</th>\n",
       "      <td>homa</td>\n",
       "      <td>3</td>\n",
       "      <td>hoima</td>\n",
       "    </tr>\n",
       "    <tr>\n",
       "      <th>4</th>\n",
       "      <td>ofex</td>\n",
       "      <td>5</td>\n",
       "      <td>owen falls extension</td>\n",
       "    </tr>\n",
       "  </tbody>\n",
       "</table>\n",
       "</div>"
      ],
      "text/plain": [
       "  substation_acronym  critical_level       substation_name\n",
       "0               mskw               3           masaka west\n",
       "1               nkda               4                nkenda\n",
       "2               owfs               5            owen falls\n",
       "3               homa               3                 hoima\n",
       "4               ofex               5  owen falls extension"
      ]
     },
     "execution_count": 82,
     "metadata": {},
     "output_type": "execute_result"
    }
   ],
   "source": [
    "sql_qyery = \"SELECT substation_acronym,critical_level,substation_name FROM substation_data\"\n",
    "substation_data = pd.read_sql(sql_qyery,con=engine)\n",
    "substation_data.head()"
   ]
  },
  {
   "cell_type": "code",
   "execution_count": null,
   "metadata": {},
   "outputs": [],
   "source": []
  }
 ],
 "metadata": {
  "kernelspec": {
   "display_name": "base",
   "language": "python",
   "name": "python3"
  },
  "language_info": {
   "codemirror_mode": {
    "name": "ipython",
    "version": 3
   },
   "file_extension": ".py",
   "mimetype": "text/x-python",
   "name": "python",
   "nbconvert_exporter": "python",
   "pygments_lexer": "ipython3",
   "version": "3.8.8 (default, Apr 13 2021, 15:08:03) [MSC v.1916 64 bit (AMD64)]"
  },
  "orig_nbformat": 4,
  "vscode": {
   "interpreter": {
    "hash": "ad2bdc8ecc057115af97d19610ffacc2b4e99fae6737bb82f5d7fb13d2f2c186"
   }
  }
 },
 "nbformat": 4,
 "nbformat_minor": 2
}

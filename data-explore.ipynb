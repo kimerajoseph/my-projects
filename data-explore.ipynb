{
 "cells": [
  {
   "cell_type": "code",
   "execution_count": 219,
   "metadata": {},
   "outputs": [],
   "source": [
    "import pandas as pd"
   ]
  },
  {
   "cell_type": "code",
   "execution_count": 220,
   "metadata": {},
   "outputs": [
    {
     "data": {
      "text/html": [
       "<div>\n",
       "<style scoped>\n",
       "    .dataframe tbody tr th:only-of-type {\n",
       "        vertical-align: middle;\n",
       "    }\n",
       "\n",
       "    .dataframe tbody tr th {\n",
       "        vertical-align: top;\n",
       "    }\n",
       "\n",
       "    .dataframe thead th {\n",
       "        text-align: right;\n",
       "    }\n",
       "</style>\n",
       "<table border=\"1\" class=\"dataframe\">\n",
       "  <thead>\n",
       "    <tr style=\"text-align: right;\">\n",
       "      <th></th>\n",
       "      <th>0</th>\n",
       "      <th>1</th>\n",
       "    </tr>\n",
       "  </thead>\n",
       "  <tbody>\n",
       "    <tr>\n",
       "      <th>0</th>\n",
       "      <td>04/11/2022 09:06:01.346</td>\n",
       "      <td>MSKW 33 RAKA CB Back Prot Trip</td>\n",
       "    </tr>\n",
       "    <tr>\n",
       "      <th>1</th>\n",
       "      <td>04/11/2022 09:11:31.918</td>\n",
       "      <td>NKDA 33 HIMA 2 CB Open</td>\n",
       "    </tr>\n",
       "    <tr>\n",
       "      <th>2</th>\n",
       "      <td>04/11/2022 09:34:41.939</td>\n",
       "      <td>OWFS 33 NYZA 1 CB Open</td>\n",
       "    </tr>\n",
       "    <tr>\n",
       "      <th>3</th>\n",
       "      <td>04/11/2022 09:36:19.609</td>\n",
       "      <td>HOMA STATION SUPPLY FAIL Fault</td>\n",
       "    </tr>\n",
       "    <tr>\n",
       "      <th>4</th>\n",
       "      <td>04/11/2022 09:45:38.424</td>\n",
       "      <td>OFEX 132 GTX14 CB Open</td>\n",
       "    </tr>\n",
       "  </tbody>\n",
       "</table>\n",
       "</div>"
      ],
      "text/plain": [
       "                         0                               1\n",
       "0  04/11/2022 09:06:01.346  MSKW 33 RAKA CB Back Prot Trip\n",
       "1  04/11/2022 09:11:31.918          NKDA 33 HIMA 2 CB Open\n",
       "2  04/11/2022 09:34:41.939          OWFS 33 NYZA 1 CB Open\n",
       "3  04/11/2022 09:36:19.609  HOMA STATION SUPPLY FAIL Fault\n",
       "4  04/11/2022 09:45:38.424          OFEX 132 GTX14 CB Open"
      ]
     },
     "execution_count": 220,
     "metadata": {},
     "output_type": "execute_result"
    }
   ],
   "source": [
    "data = pd.read_csv(\"test.csv\", header=None)\n",
    "data.head()"
   ]
  },
  {
   "attachments": {},
   "cell_type": "markdown",
   "metadata": {},
   "source": [
    "### Rename columns"
   ]
  },
  {
   "cell_type": "code",
   "execution_count": null,
   "metadata": {},
   "outputs": [],
   "source": [
    "def clean_data():\n",
    "    # rename columns\n",
    "    data.columns = ['datetime', 'event']\n",
    "    # filter data \n",
    "    data = data[(data.datetime != \"time\") | (data.event != \"event\") ]\n",
    "    data.event = data.event.str.lower()\n",
    "\n",
    "    # covert datetime column to datetime object. SHOULD BE DONE AFTER FILTERING. ELSE, ERRORS\n",
    "    data.datetime = pd.to_datetime(data.datetime)\n",
    "\n",
    "    data[\"month\"] = data.datetime.dt.month_name()\n",
    "    data[\"time\"] = data.datetime.dt.time"
   ]
  },
  {
   "cell_type": "code",
   "execution_count": 221,
   "metadata": {},
   "outputs": [
    {
     "data": {
      "text/html": [
       "<div>\n",
       "<style scoped>\n",
       "    .dataframe tbody tr th:only-of-type {\n",
       "        vertical-align: middle;\n",
       "    }\n",
       "\n",
       "    .dataframe tbody tr th {\n",
       "        vertical-align: top;\n",
       "    }\n",
       "\n",
       "    .dataframe thead th {\n",
       "        text-align: right;\n",
       "    }\n",
       "</style>\n",
       "<table border=\"1\" class=\"dataframe\">\n",
       "  <thead>\n",
       "    <tr style=\"text-align: right;\">\n",
       "      <th></th>\n",
       "      <th>datetime</th>\n",
       "      <th>event</th>\n",
       "    </tr>\n",
       "  </thead>\n",
       "  <tbody>\n",
       "    <tr>\n",
       "      <th>0</th>\n",
       "      <td>04/11/2022 09:06:01.346</td>\n",
       "      <td>MSKW 33 RAKA CB Back Prot Trip</td>\n",
       "    </tr>\n",
       "    <tr>\n",
       "      <th>1</th>\n",
       "      <td>04/11/2022 09:11:31.918</td>\n",
       "      <td>NKDA 33 HIMA 2 CB Open</td>\n",
       "    </tr>\n",
       "    <tr>\n",
       "      <th>2</th>\n",
       "      <td>04/11/2022 09:34:41.939</td>\n",
       "      <td>OWFS 33 NYZA 1 CB Open</td>\n",
       "    </tr>\n",
       "    <tr>\n",
       "      <th>3</th>\n",
       "      <td>04/11/2022 09:36:19.609</td>\n",
       "      <td>HOMA STATION SUPPLY FAIL Fault</td>\n",
       "    </tr>\n",
       "    <tr>\n",
       "      <th>4</th>\n",
       "      <td>04/11/2022 09:45:38.424</td>\n",
       "      <td>OFEX 132 GTX14 CB Open</td>\n",
       "    </tr>\n",
       "  </tbody>\n",
       "</table>\n",
       "</div>"
      ],
      "text/plain": [
       "                  datetime                           event\n",
       "0  04/11/2022 09:06:01.346  MSKW 33 RAKA CB Back Prot Trip\n",
       "1  04/11/2022 09:11:31.918          NKDA 33 HIMA 2 CB Open\n",
       "2  04/11/2022 09:34:41.939          OWFS 33 NYZA 1 CB Open\n",
       "3  04/11/2022 09:36:19.609  HOMA STATION SUPPLY FAIL Fault\n",
       "4  04/11/2022 09:45:38.424          OFEX 132 GTX14 CB Open"
      ]
     },
     "execution_count": 221,
     "metadata": {},
     "output_type": "execute_result"
    }
   ],
   "source": [
    "data.columns = ['datetime', 'event']\n",
    "data.head()"
   ]
  },
  {
   "cell_type": "code",
   "execution_count": 222,
   "metadata": {},
   "outputs": [],
   "source": [
    "data = data[(data.datetime != \"time\") | (data.event != \"event\") ]"
   ]
  },
  {
   "cell_type": "code",
   "execution_count": 223,
   "metadata": {},
   "outputs": [
    {
     "data": {
      "text/plain": [
       "datetime               22/11/2022 07:38:17.557\n",
       "event       KLAN 33 LGGO 1 CB Lockout Locked N\n",
       "Name: 15981, dtype: object"
      ]
     },
     "execution_count": 223,
     "metadata": {},
     "output_type": "execute_result"
    }
   ],
   "source": [
    "data.iloc[15980]"
   ]
  },
  {
   "cell_type": "code",
   "execution_count": 224,
   "metadata": {},
   "outputs": [
    {
     "data": {
      "text/plain": [
       "datetime    datetime64[ns]\n",
       "event               object\n",
       "dtype: object"
      ]
     },
     "execution_count": 224,
     "metadata": {},
     "output_type": "execute_result"
    }
   ],
   "source": [
    "#data.datetime = pd.to_datetime(data.iloc[:,0])\n",
    "data.datetime = pd.to_datetime(data.datetime)\n",
    "data.dtypes\n"
   ]
  },
  {
   "cell_type": "code",
   "execution_count": 225,
   "metadata": {},
   "outputs": [
    {
     "data": {
      "text/html": [
       "<div>\n",
       "<style scoped>\n",
       "    .dataframe tbody tr th:only-of-type {\n",
       "        vertical-align: middle;\n",
       "    }\n",
       "\n",
       "    .dataframe tbody tr th {\n",
       "        vertical-align: top;\n",
       "    }\n",
       "\n",
       "    .dataframe thead th {\n",
       "        text-align: right;\n",
       "    }\n",
       "</style>\n",
       "<table border=\"1\" class=\"dataframe\">\n",
       "  <thead>\n",
       "    <tr style=\"text-align: right;\">\n",
       "      <th></th>\n",
       "      <th>datetime</th>\n",
       "      <th>event</th>\n",
       "      <th>month</th>\n",
       "      <th>date</th>\n",
       "    </tr>\n",
       "  </thead>\n",
       "  <tbody>\n",
       "    <tr>\n",
       "      <th>0</th>\n",
       "      <td>2022-04-11 09:06:01.346</td>\n",
       "      <td>MSKW 33 RAKA CB Back Prot Trip</td>\n",
       "      <td>April</td>\n",
       "      <td>09:06:01.346000</td>\n",
       "    </tr>\n",
       "    <tr>\n",
       "      <th>1</th>\n",
       "      <td>2022-04-11 09:11:31.918</td>\n",
       "      <td>NKDA 33 HIMA 2 CB Open</td>\n",
       "      <td>April</td>\n",
       "      <td>09:11:31.918000</td>\n",
       "    </tr>\n",
       "    <tr>\n",
       "      <th>2</th>\n",
       "      <td>2022-04-11 09:34:41.939</td>\n",
       "      <td>OWFS 33 NYZA 1 CB Open</td>\n",
       "      <td>April</td>\n",
       "      <td>09:34:41.939000</td>\n",
       "    </tr>\n",
       "    <tr>\n",
       "      <th>3</th>\n",
       "      <td>2022-04-11 09:36:19.609</td>\n",
       "      <td>HOMA STATION SUPPLY FAIL Fault</td>\n",
       "      <td>April</td>\n",
       "      <td>09:36:19.609000</td>\n",
       "    </tr>\n",
       "    <tr>\n",
       "      <th>4</th>\n",
       "      <td>2022-04-11 09:45:38.424</td>\n",
       "      <td>OFEX 132 GTX14 CB Open</td>\n",
       "      <td>April</td>\n",
       "      <td>09:45:38.424000</td>\n",
       "    </tr>\n",
       "  </tbody>\n",
       "</table>\n",
       "</div>"
      ],
      "text/plain": [
       "                 datetime                           event  month  \\\n",
       "0 2022-04-11 09:06:01.346  MSKW 33 RAKA CB Back Prot Trip  April   \n",
       "1 2022-04-11 09:11:31.918          NKDA 33 HIMA 2 CB Open  April   \n",
       "2 2022-04-11 09:34:41.939          OWFS 33 NYZA 1 CB Open  April   \n",
       "3 2022-04-11 09:36:19.609  HOMA STATION SUPPLY FAIL Fault  April   \n",
       "4 2022-04-11 09:45:38.424          OFEX 132 GTX14 CB Open  April   \n",
       "\n",
       "              date  \n",
       "0  09:06:01.346000  \n",
       "1  09:11:31.918000  \n",
       "2  09:34:41.939000  \n",
       "3  09:36:19.609000  \n",
       "4  09:45:38.424000  "
      ]
     },
     "execution_count": 225,
     "metadata": {},
     "output_type": "execute_result"
    }
   ],
   "source": [
    "data[\"month\"] = data.datetime.dt.month_name()\n",
    "data[\"date\"] = data.datetime.dt.time\n",
    "data.head()"
   ]
  },
  {
   "cell_type": "code",
   "execution_count": 226,
   "metadata": {},
   "outputs": [
    {
     "data": {
      "text/html": [
       "<div>\n",
       "<style scoped>\n",
       "    .dataframe tbody tr th:only-of-type {\n",
       "        vertical-align: middle;\n",
       "    }\n",
       "\n",
       "    .dataframe tbody tr th {\n",
       "        vertical-align: top;\n",
       "    }\n",
       "\n",
       "    .dataframe thead th {\n",
       "        text-align: right;\n",
       "    }\n",
       "</style>\n",
       "<table border=\"1\" class=\"dataframe\">\n",
       "  <thead>\n",
       "    <tr style=\"text-align: right;\">\n",
       "      <th></th>\n",
       "      <th>datetime</th>\n",
       "      <th>event</th>\n",
       "      <th>month</th>\n",
       "      <th>date</th>\n",
       "    </tr>\n",
       "  </thead>\n",
       "  <tbody>\n",
       "    <tr>\n",
       "      <th>0</th>\n",
       "      <td>2022-04-11 09:06:01.346</td>\n",
       "      <td>mskw 33 raka cb back prot trip</td>\n",
       "      <td>April</td>\n",
       "      <td>09:06:01.346000</td>\n",
       "    </tr>\n",
       "    <tr>\n",
       "      <th>1</th>\n",
       "      <td>2022-04-11 09:11:31.918</td>\n",
       "      <td>nkda 33 hima 2 cb open</td>\n",
       "      <td>April</td>\n",
       "      <td>09:11:31.918000</td>\n",
       "    </tr>\n",
       "    <tr>\n",
       "      <th>2</th>\n",
       "      <td>2022-04-11 09:34:41.939</td>\n",
       "      <td>owfs 33 nyza 1 cb open</td>\n",
       "      <td>April</td>\n",
       "      <td>09:34:41.939000</td>\n",
       "    </tr>\n",
       "    <tr>\n",
       "      <th>3</th>\n",
       "      <td>2022-04-11 09:36:19.609</td>\n",
       "      <td>homa station supply fail fault</td>\n",
       "      <td>April</td>\n",
       "      <td>09:36:19.609000</td>\n",
       "    </tr>\n",
       "    <tr>\n",
       "      <th>4</th>\n",
       "      <td>2022-04-11 09:45:38.424</td>\n",
       "      <td>ofex 132 gtx14 cb open</td>\n",
       "      <td>April</td>\n",
       "      <td>09:45:38.424000</td>\n",
       "    </tr>\n",
       "  </tbody>\n",
       "</table>\n",
       "</div>"
      ],
      "text/plain": [
       "                 datetime                           event  month  \\\n",
       "0 2022-04-11 09:06:01.346  mskw 33 raka cb back prot trip  April   \n",
       "1 2022-04-11 09:11:31.918          nkda 33 hima 2 cb open  April   \n",
       "2 2022-04-11 09:34:41.939          owfs 33 nyza 1 cb open  April   \n",
       "3 2022-04-11 09:36:19.609  homa station supply fail fault  April   \n",
       "4 2022-04-11 09:45:38.424          ofex 132 gtx14 cb open  April   \n",
       "\n",
       "              date  \n",
       "0  09:06:01.346000  \n",
       "1  09:11:31.918000  \n",
       "2  09:34:41.939000  \n",
       "3  09:36:19.609000  \n",
       "4  09:45:38.424000  "
      ]
     },
     "execution_count": 226,
     "metadata": {},
     "output_type": "execute_result"
    }
   ],
   "source": [
    "data.event = data.event.str.lower()\n",
    "data.head()"
   ]
  },
  {
   "cell_type": "code",
   "execution_count": 227,
   "metadata": {},
   "outputs": [],
   "source": [
    "#data.to_csv(\"clean_data.csv\")"
   ]
  },
  {
   "cell_type": "code",
   "execution_count": 228,
   "metadata": {},
   "outputs": [],
   "source": [
    "classify_list = [\"station supply fail\",\"trip cct fault\",\"dc power failure\",\"cb lockout locked\",\"cb backup trip\",\n",
    "\"cb back prot trip\",\"dc fault\",\"homa station supply fail fault\"]\n",
    "def classify_events(row):  \n",
    "    for s in classify_list:\n",
    "        if s in row:\n",
    "            return \"critical\"\n",
    "\n",
    "        else:\n",
    "            return \"normal\"\n"
   ]
  },
  {
   "cell_type": "code",
   "execution_count": 229,
   "metadata": {},
   "outputs": [
    {
     "data": {
      "text/html": [
       "<div>\n",
       "<style scoped>\n",
       "    .dataframe tbody tr th:only-of-type {\n",
       "        vertical-align: middle;\n",
       "    }\n",
       "\n",
       "    .dataframe tbody tr th {\n",
       "        vertical-align: top;\n",
       "    }\n",
       "\n",
       "    .dataframe thead th {\n",
       "        text-align: right;\n",
       "    }\n",
       "</style>\n",
       "<table border=\"1\" class=\"dataframe\">\n",
       "  <thead>\n",
       "    <tr style=\"text-align: right;\">\n",
       "      <th></th>\n",
       "      <th>datetime</th>\n",
       "      <th>event</th>\n",
       "      <th>month</th>\n",
       "      <th>date</th>\n",
       "      <th>type</th>\n",
       "    </tr>\n",
       "  </thead>\n",
       "  <tbody>\n",
       "    <tr>\n",
       "      <th>0</th>\n",
       "      <td>2022-04-11 09:06:01.346</td>\n",
       "      <td>mskw 33 raka cb back prot trip</td>\n",
       "      <td>April</td>\n",
       "      <td>09:06:01.346000</td>\n",
       "      <td>normal</td>\n",
       "    </tr>\n",
       "    <tr>\n",
       "      <th>1</th>\n",
       "      <td>2022-04-11 09:11:31.918</td>\n",
       "      <td>nkda 33 hima 2 cb open</td>\n",
       "      <td>April</td>\n",
       "      <td>09:11:31.918000</td>\n",
       "      <td>normal</td>\n",
       "    </tr>\n",
       "    <tr>\n",
       "      <th>2</th>\n",
       "      <td>2022-04-11 09:34:41.939</td>\n",
       "      <td>owfs 33 nyza 1 cb open</td>\n",
       "      <td>April</td>\n",
       "      <td>09:34:41.939000</td>\n",
       "      <td>normal</td>\n",
       "    </tr>\n",
       "    <tr>\n",
       "      <th>3</th>\n",
       "      <td>2022-04-11 09:36:19.609</td>\n",
       "      <td>homa station supply fail fault</td>\n",
       "      <td>April</td>\n",
       "      <td>09:36:19.609000</td>\n",
       "      <td>critical</td>\n",
       "    </tr>\n",
       "    <tr>\n",
       "      <th>4</th>\n",
       "      <td>2022-04-11 09:45:38.424</td>\n",
       "      <td>ofex 132 gtx14 cb open</td>\n",
       "      <td>April</td>\n",
       "      <td>09:45:38.424000</td>\n",
       "      <td>normal</td>\n",
       "    </tr>\n",
       "  </tbody>\n",
       "</table>\n",
       "</div>"
      ],
      "text/plain": [
       "                 datetime                           event  month  \\\n",
       "0 2022-04-11 09:06:01.346  mskw 33 raka cb back prot trip  April   \n",
       "1 2022-04-11 09:11:31.918          nkda 33 hima 2 cb open  April   \n",
       "2 2022-04-11 09:34:41.939          owfs 33 nyza 1 cb open  April   \n",
       "3 2022-04-11 09:36:19.609  homa station supply fail fault  April   \n",
       "4 2022-04-11 09:45:38.424          ofex 132 gtx14 cb open  April   \n",
       "\n",
       "              date      type  \n",
       "0  09:06:01.346000    normal  \n",
       "1  09:11:31.918000    normal  \n",
       "2  09:34:41.939000    normal  \n",
       "3  09:36:19.609000  critical  \n",
       "4  09:45:38.424000    normal  "
      ]
     },
     "execution_count": 229,
     "metadata": {},
     "output_type": "execute_result"
    }
   ],
   "source": [
    "#df = df.apply(lambda row : replace(row))\n",
    "data['type'] = data['event'].apply(lambda row: classify_events(row))\n",
    "data.head()"
   ]
  },
  {
   "cell_type": "code",
   "execution_count": 230,
   "metadata": {},
   "outputs": [
    {
     "data": {
      "text/plain": [
       "normal      15945\n",
       "critical       60\n",
       "Name: type, dtype: int64"
      ]
     },
     "execution_count": 230,
     "metadata": {},
     "output_type": "execute_result"
    }
   ],
   "source": [
    "data.type.value_counts()"
   ]
  },
  {
   "cell_type": "code",
   "execution_count": 231,
   "metadata": {},
   "outputs": [],
   "source": [
    "# [i for e in bad for i in my_list if e in i]\n",
    "# for i in check_list:\n",
    "#     for e in classify_list:\n",
    "#         if e in i:\n",
    "#             my_list.append(i)\n",
    "\n",
    "# my_list"
   ]
  },
  {
   "cell_type": "code",
   "execution_count": 232,
   "metadata": {},
   "outputs": [
    {
     "data": {
      "text/plain": [
       "(60, 5)"
      ]
     },
     "execution_count": 232,
     "metadata": {},
     "output_type": "execute_result"
    }
   ],
   "source": [
    "ciritcal_data = data[data['type'] == 'critical']\n",
    "ciritcal_data.shape"
   ]
  },
  {
   "cell_type": "code",
   "execution_count": null,
   "metadata": {},
   "outputs": [],
   "source": []
  }
 ],
 "metadata": {
  "kernelspec": {
   "display_name": "base",
   "language": "python",
   "name": "python3"
  },
  "language_info": {
   "codemirror_mode": {
    "name": "ipython",
    "version": 3
   },
   "file_extension": ".py",
   "mimetype": "text/x-python",
   "name": "python",
   "nbconvert_exporter": "python",
   "pygments_lexer": "ipython3",
   "version": "3.9.7"
  },
  "orig_nbformat": 4,
  "vscode": {
   "interpreter": {
    "hash": "4b8e647a79df62bf31906a725b05de775d285962ac600487339d38c51a5c07b1"
   }
  }
 },
 "nbformat": 4,
 "nbformat_minor": 2
}

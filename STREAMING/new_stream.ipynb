{
 "cells": [
  {
   "cell_type": "code",
   "execution_count": 3,
   "metadata": {},
   "outputs": [],
   "source": [
    "from dotenv import load_dotenv\n",
    "import os\n",
    "from datetime import datetime, timedelta\n",
    "\n",
    "load_dotenv()\n",
    "host = os.getenv(\"HOST\")\n",
    "db_username = os.getenv(\"DB_USERNAME\")\n",
    "password = os.getenv(\"PASSWORD\")\n",
    "db_name = os.getenv(\"LOCAL_DB\")\n",
    "port = os.getenv(\"PORT\")\n",
    "\n",
    "from pymysqlreplication import BinLogStreamReader\n",
    "from pymysqlreplication.row_event import (\n",
    "  DeleteRowsEvent,\n",
    "  UpdateRowsEvent,\n",
    "  WriteRowsEvent,\n",
    ")\n",
    "\n",
    "MYSQL_SETTINGS = {\n",
    "    \"host\": host,\n",
    "    \"port\": 3306,\n",
    "    \"user\": db_username,\n",
    "    \"passwd\":password\n",
    "}\n",
    "\n",
    "\n",
    "# def main():\n",
    "#     # server_id is your slave identifier, it should be unique.\n",
    "#     # set blocking to True if you want to block and wait for the next event at\n",
    "#     # the end of the stream\n",
    "stream = BinLogStreamReader(connection_settings=MYSQL_SETTINGS,\n",
    "                            server_id=1,\n",
    "                            blocking=True,\n",
    "                            only_events=[DeleteRowsEvent, WriteRowsEvent, UpdateRowsEvent]\n",
    "                            )\n",
    "\n",
    "# for binlogevent in stream:\n",
    "#     binlogevent.dump()\n",
    "events_list = []\n",
    "for binlogevent in stream:\n",
    "    for row in binlogevent.rows:\n",
    "      event = {\"schema\": binlogevent.schema,\n",
    "      \"table\": binlogevent.table,\n",
    "      \"type\": type(binlogevent).__name__,\n",
    "      \"row\": row\n",
    "      }\n",
    "      #print(event)\n",
    "      events_list.append(event)\n",
    "      # with open(\"events.txt\") as f_out:\n",
    "      #   f_out.write(event)\n",
    "      # f_out.close\n",
    "\n",
    "stream.close()\n",
    "\n",
    "\n",
    "# if __name__ == \"__main__\":\n",
    "#     main()"
   ]
  },
  {
   "cell_type": "code",
   "execution_count": null,
   "metadata": {},
   "outputs": [],
   "source": []
  }
 ],
 "metadata": {
  "kernelspec": {
   "display_name": "base",
   "language": "python",
   "name": "python3"
  },
  "language_info": {
   "codemirror_mode": {
    "name": "ipython",
    "version": 3
   },
   "file_extension": ".py",
   "mimetype": "text/x-python",
   "name": "python",
   "nbconvert_exporter": "python",
   "pygments_lexer": "ipython3",
   "version": "3.8.8 (default, Apr 13 2021, 15:08:03) [MSC v.1916 64 bit (AMD64)]"
  },
  "orig_nbformat": 4,
  "vscode": {
   "interpreter": {
    "hash": "ad2bdc8ecc057115af97d19610ffacc2b4e99fae6737bb82f5d7fb13d2f2c186"
   }
  }
 },
 "nbformat": 4,
 "nbformat_minor": 2
}

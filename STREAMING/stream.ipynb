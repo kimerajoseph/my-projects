{
 "cells": [
  {
   "cell_type": "code",
   "execution_count": 2,
   "metadata": {},
   "outputs": [],
   "source": [
    "import json\n",
    "import boto3\n",
    "\n",
    "# server-id=1\n",
    "from pymysqlreplication import BinLogStreamReader\n",
    "from pymysqlreplication.row_event import (\n",
    "  DeleteRowsEvent,\n",
    "  UpdateRowsEvent,\n",
    "  WriteRowsEvent,\n",
    ")\n"
   ]
  },
  {
   "cell_type": "code",
   "execution_count": 3,
   "metadata": {},
   "outputs": [],
   "source": [
    "from dotenv import load_dotenv\n",
    "import os\n",
    "from datetime import datetime, timedelta\n",
    "\n",
    "load_dotenv()\n",
    "host = os.getenv(\"HOST\")\n",
    "db_username = os.getenv(\"DB_USERNAME\")\n",
    "password = os.getenv(\"PASSWORD\")\n",
    "db_name = os.getenv(\"LOCAL_DB\")\n",
    "port = os.getenv(\"PORT\")"
   ]
  },
  {
   "cell_type": "code",
   "execution_count": 4,
   "metadata": {},
   "outputs": [],
   "source": [
    "stream = BinLogStreamReader(\n",
    "connection_settings= {\n",
    "    \"host\": host,\n",
    "    \"port\": 3306,\n",
    "    \"user\": db_username,\n",
    "    \"passwd\": password},\n",
    "server_id=1,\n",
    "blocking=True,\n",
    "resume_stream=True,\n",
    "only_events=[DeleteRowsEvent, WriteRowsEvent, UpdateRowsEvent]\n",
    ")\n"
   ]
  },
  {
   "cell_type": "code",
   "execution_count": 5,
   "metadata": {},
   "outputs": [],
   "source": [
    "for binlogevent in stream:\n",
    "    for row in binlogevent.rows:\n",
    "      event = {\"schema\": binlogevent.schema,\n",
    "      \"table\": binlogevent.table,\n",
    "      \"type\": type(binlogevent).__name__,\n",
    "      \"row\": row\n",
    "      }\n",
    "      print(event)"
   ]
  },
  {
   "cell_type": "code",
   "execution_count": null,
   "metadata": {},
   "outputs": [],
   "source": [
    "# {\"table\": \"Users\", \"row\": {\"values\": {\"Name\": \"Foo User\", \"idUsers\": 123}}, \"type\": \"WriteRowsEvent\", \"schema\": \"kinesistest\"}\n",
    "# {\"table\": \"Users\", \"row\": {\"values\": {\"Name\": \"Bar user\", \"idUsers\": 124}}, \"type\": \"WriteRowsEvent\", \"schema\": \"kinesistest\"}\n",
    "# {\"table\": \"Users\", \"row\": {\"before_values\": {\"Name\": \"Foo User\", \"idUsers\": 123}, \"after_values\": {\"Name\": \"Bar User\", \"idUsers\": 123}}, \"type\": \"UpdateRowsEvent\", \"schema\": \"kinesistest\"}"
   ]
  },
  {
   "cell_type": "code",
   "execution_count": 1,
   "metadata": {},
   "outputs": [
    {
     "data": {
      "text/plain": [
       "True"
      ]
     },
     "execution_count": 1,
     "metadata": {},
     "output_type": "execute_result"
    }
   ],
   "source": [
    "import pandas as pd\n",
    "#import pymysql\n",
    "from sqlalchemy import create_engine\n",
    "from dotenv import load_dotenv\n",
    "import os\n",
    "from datetime import datetime, timedelta\n",
    "\n",
    "load_dotenv()"
   ]
  },
  {
   "cell_type": "code",
   "execution_count": 2,
   "metadata": {},
   "outputs": [],
   "source": [
    "host = os.getenv(\"HOST\")\n",
    "db_username = os.getenv(\"DB_USERNAME\")\n",
    "password = os.getenv(\"PASSWORD\")\n",
    "db_name = os.getenv(\"LOCAL_DB\")\n",
    "port = os.getenv(\"PORT\")\n",
    "\n",
    "engine = create_engine(f'mysql+pymysql://root:{password}@{host}/{db_name}')"
   ]
  },
  {
   "cell_type": "code",
   "execution_count": 4,
   "metadata": {},
   "outputs": [
    {
     "data": {
      "text/html": [
       "<div>\n",
       "<style scoped>\n",
       "    .dataframe tbody tr th:only-of-type {\n",
       "        vertical-align: middle;\n",
       "    }\n",
       "\n",
       "    .dataframe tbody tr th {\n",
       "        vertical-align: top;\n",
       "    }\n",
       "\n",
       "    .dataframe thead th {\n",
       "        text-align: right;\n",
       "    }\n",
       "</style>\n",
       "<table border=\"1\" class=\"dataframe\">\n",
       "  <thead>\n",
       "    <tr style=\"text-align: right;\">\n",
       "      <th></th>\n",
       "      <th>Unnamed: 0</th>\n",
       "      <th>datetime</th>\n",
       "      <th>event</th>\n",
       "      <th>date</th>\n",
       "      <th>month</th>\n",
       "      <th>weekday</th>\n",
       "      <th>time</th>\n",
       "      <th>type</th>\n",
       "      <th>substation_acronym</th>\n",
       "      <th>fault_voltage</th>\n",
       "      <th>critical level</th>\n",
       "      <th>substation name</th>\n",
       "    </tr>\n",
       "  </thead>\n",
       "  <tbody>\n",
       "    <tr>\n",
       "      <th>0</th>\n",
       "      <td>0</td>\n",
       "      <td>2022-04-11 09:06:01.346</td>\n",
       "      <td>mskw 33 raka cb back prot trip</td>\n",
       "      <td>2022-04-11</td>\n",
       "      <td>April</td>\n",
       "      <td>Monday</td>\n",
       "      <td>09:06:01.346000</td>\n",
       "      <td>critical</td>\n",
       "      <td>mskw</td>\n",
       "      <td>33</td>\n",
       "      <td>3.0</td>\n",
       "      <td>masaka west</td>\n",
       "    </tr>\n",
       "    <tr>\n",
       "      <th>1</th>\n",
       "      <td>1</td>\n",
       "      <td>2022-04-11 12:25:43.629</td>\n",
       "      <td>mskw 33 raka cb back prot trip</td>\n",
       "      <td>2022-04-11</td>\n",
       "      <td>April</td>\n",
       "      <td>Monday</td>\n",
       "      <td>12:25:43.629000</td>\n",
       "      <td>critical</td>\n",
       "      <td>mskw</td>\n",
       "      <td>33</td>\n",
       "      <td>3.0</td>\n",
       "      <td>masaka west</td>\n",
       "    </tr>\n",
       "    <tr>\n",
       "      <th>2</th>\n",
       "      <td>2</td>\n",
       "      <td>2022-04-11 13:49:28.982</td>\n",
       "      <td>mskw 33 raka cb back prot trip</td>\n",
       "      <td>2022-04-11</td>\n",
       "      <td>April</td>\n",
       "      <td>Monday</td>\n",
       "      <td>13:49:28.982000</td>\n",
       "      <td>critical</td>\n",
       "      <td>mskw</td>\n",
       "      <td>33</td>\n",
       "      <td>3.0</td>\n",
       "      <td>masaka west</td>\n",
       "    </tr>\n",
       "    <tr>\n",
       "      <th>3</th>\n",
       "      <td>3</td>\n",
       "      <td>2022-04-11 17:18:25.427</td>\n",
       "      <td>mskw 33 raka cb back prot trip</td>\n",
       "      <td>2022-04-11</td>\n",
       "      <td>April</td>\n",
       "      <td>Monday</td>\n",
       "      <td>17:18:25.427000</td>\n",
       "      <td>critical</td>\n",
       "      <td>mskw</td>\n",
       "      <td>33</td>\n",
       "      <td>3.0</td>\n",
       "      <td>masaka west</td>\n",
       "    </tr>\n",
       "    <tr>\n",
       "      <th>4</th>\n",
       "      <td>4</td>\n",
       "      <td>2022-05-11 01:22:25.157</td>\n",
       "      <td>mskw 33 raka cb back prot trip</td>\n",
       "      <td>2022-05-11</td>\n",
       "      <td>May</td>\n",
       "      <td>Wednesday</td>\n",
       "      <td>01:22:25.157000</td>\n",
       "      <td>critical</td>\n",
       "      <td>mskw</td>\n",
       "      <td>33</td>\n",
       "      <td>3.0</td>\n",
       "      <td>masaka west</td>\n",
       "    </tr>\n",
       "  </tbody>\n",
       "</table>\n",
       "</div>"
      ],
      "text/plain": [
       "   Unnamed: 0                 datetime                           event  \\\n",
       "0           0  2022-04-11 09:06:01.346  mskw 33 raka cb back prot trip   \n",
       "1           1  2022-04-11 12:25:43.629  mskw 33 raka cb back prot trip   \n",
       "2           2  2022-04-11 13:49:28.982  mskw 33 raka cb back prot trip   \n",
       "3           3  2022-04-11 17:18:25.427  mskw 33 raka cb back prot trip   \n",
       "4           4  2022-05-11 01:22:25.157  mskw 33 raka cb back prot trip   \n",
       "\n",
       "         date  month    weekday             time      type substation_acronym  \\\n",
       "0  2022-04-11  April     Monday  09:06:01.346000  critical               mskw   \n",
       "1  2022-04-11  April     Monday  12:25:43.629000  critical               mskw   \n",
       "2  2022-04-11  April     Monday  13:49:28.982000  critical               mskw   \n",
       "3  2022-04-11  April     Monday  17:18:25.427000  critical               mskw   \n",
       "4  2022-05-11    May  Wednesday  01:22:25.157000  critical               mskw   \n",
       "\n",
       "  fault_voltage  critical level substation name  \n",
       "0            33             3.0     masaka west  \n",
       "1            33             3.0     masaka west  \n",
       "2            33             3.0     masaka west  \n",
       "3            33             3.0     masaka west  \n",
       "4            33             3.0     masaka west  "
      ]
     },
     "execution_count": 4,
     "metadata": {},
     "output_type": "execute_result"
    }
   ],
   "source": [
    "data = pd.read_csv(\"../final_data.csv\")\n",
    "data.head()"
   ]
  },
  {
   "cell_type": "code",
   "execution_count": 5,
   "metadata": {},
   "outputs": [],
   "source": [
    "data.to_sql(name=\"new_data\", con=engine, if_exists=\"append\")"
   ]
  },
  {
   "cell_type": "code",
   "execution_count": null,
   "metadata": {},
   "outputs": [],
   "source": []
  }
 ],
 "metadata": {
  "kernelspec": {
   "display_name": "base",
   "language": "python",
   "name": "python3"
  },
  "language_info": {
   "codemirror_mode": {
    "name": "ipython",
    "version": 3
   },
   "file_extension": ".py",
   "mimetype": "text/x-python",
   "name": "python",
   "nbconvert_exporter": "python",
   "pygments_lexer": "ipython3",
   "version": "3.8.8 (default, Apr 13 2021, 15:08:03) [MSC v.1916 64 bit (AMD64)]"
  },
  "orig_nbformat": 4,
  "vscode": {
   "interpreter": {
    "hash": "ad2bdc8ecc057115af97d19610ffacc2b4e99fae6737bb82f5d7fb13d2f2c186"
   }
  }
 },
 "nbformat": 4,
 "nbformat_minor": 2
}

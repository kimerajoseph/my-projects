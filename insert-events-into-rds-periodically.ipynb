{
 "cells": [
  {
   "cell_type": "code",
   "execution_count": null,
   "metadata": {},
   "outputs": [],
   "source": [
    "import pandas as pd\n",
    "import pymysql\n",
    "import time"
   ]
  },
  {
   "cell_type": "code",
   "execution_count": null,
   "metadata": {},
   "outputs": [],
   "source": [
    "events = pd.read_excel('file-containing-events.xlsx', sheet_name=0, header=None)\n",
    "events.columns=['datetime','event']\n",
    "events = events[(events.datetime != \"time\") | (events.event != \"event\") ]\n",
    "events.dropna(inplace = True)\n",
    "events.shape"
   ]
  },
  {
   "cell_type": "code",
   "execution_count": null,
   "metadata": {},
   "outputs": [],
   "source": [
    "conn = pymysql.connect(\n",
    "        host='rds-host-name',\n",
    "        user='user-name', \n",
    "        password = 'xxxxx',\n",
    "        db='db-name',\n",
    "        port=3306\n",
    "        )\n",
    "      \n",
    "cur = conn.cursor()\n"
   ]
  },
  {
   "attachments": {},
   "cell_type": "markdown",
   "metadata": {},
   "source": [
    "### Iterate over pandas df and insert each row into MySQL RDS DB"
   ]
  },
  {
   "cell_type": "code",
   "execution_count": null,
   "metadata": {},
   "outputs": [],
   "source": [
    "for index, row in events.iterrows():\n",
    "    print(row['datetime'], row['event'])\n",
    "    #sql = \"INSERT INTO scada_raw_data VALUES(row['datetime'], row['event'])\"\n",
    "    sql = \"INSERT INTO scada_raw_data (datetime, event) VALUES (%s, %s)\"\n",
    "    val = (row['datetime'], row['event'])\n",
    "    cur.execute(sql, val)\n",
    "    conn.commit()\n",
    "    time.sleep(0.1)\n",
    "\n",
    "conn.close()"
   ]
  }
 ],
 "metadata": {
  "kernelspec": {
   "display_name": "Python 3",
   "language": "python",
   "name": "python3"
  },
  "language_info": {
   "name": "python",
   "version": "3.11.0 (main, Oct 24 2022, 18:26:48) [MSC v.1933 64 bit (AMD64)]"
  },
  "orig_nbformat": 4,
  "vscode": {
   "interpreter": {
    "hash": "499aeda78e3d1a488af8e70b760e1e0ac7e9b9572d87f3fa348e05c933e3adb6"
   }
  }
 },
 "nbformat": 4,
 "nbformat_minor": 2
}

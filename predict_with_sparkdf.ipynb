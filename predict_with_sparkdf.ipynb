{
 "cells": [
  {
   "attachments": {},
   "cell_type": "markdown",
   "metadata": {},
   "source": [
    "## Training the model"
   ]
  },
  {
   "cell_type": "code",
   "execution_count": null,
   "metadata": {},
   "outputs": [],
   "source": [
    "from sklearn.linear_model import LogisticRegression\n",
    "from sklearn.datasets import load_iris\n",
    "from sklearn.linear_model import LogisticRegression\n",
    "from sklearn.datasets import load_iris\n",
    "#  import the dataset\n",
    "X, y = load_iris(return_X_y=True, as_frame=True)\n",
    "# split in training and test set\n",
    "X_train, X_test, y_train, y_test = train_test_split(X, \n",
    "                                                    y, \n",
    "                                                    test_size=0.3, \n",
    "                                                    random_state=42)\n",
    "logreg = LogisticRegression()\n",
    "# Create an instance of Logistic Regression Classifier and train the model.\n",
    "logreg.fit(X_train, y_train)"
   ]
  },
  {
   "attachments": {},
   "cell_type": "markdown",
   "metadata": {},
   "source": [
    "### Save and load model"
   ]
  },
  {
   "cell_type": "code",
   "execution_count": null,
   "metadata": {},
   "outputs": [],
   "source": [
    "import joblib\n",
    "path = 'log_model.joblib'\n",
    "joblib.dump(model, path)\n",
    "\n",
    "## load model\n",
    "log_model = joblib.load(path)"
   ]
  },
  {
   "attachments": {},
   "cell_type": "markdown",
   "metadata": {},
   "source": [
    "## WRAP MODEL INTO SPARK UDF"
   ]
  },
  {
   "cell_type": "code",
   "execution_count": null,
   "metadata": {},
   "outputs": [],
   "source": [
    "from pyspark.sql import SparkSession\n",
    "from pyspark import SparkContext\n",
    "from pyspark.sql.functions import udf\n",
    "spark = SparkSession.builder.master(\"local[*]\").getOrCreate()\n",
    "sc = spark.sparkContext\n",
    "broadcast_model = sc.broadcast(log_model)\n",
    "@udf('integer')\n",
    "def predict_data(*cols):\n",
    "   return int(broadcast_model.value.predict((cols,)))"
   ]
  },
  {
   "attachments": {},
   "cell_type": "markdown",
   "metadata": {},
   "source": [
    "## Read the data and make predictions"
   ]
  },
  {
   "cell_type": "code",
   "execution_count": null,
   "metadata": {},
   "outputs": [],
   "source": [
    "# sample of unseen data\n",
    "df = spark.createDataFrame(X_test)\n",
    "\n",
    "# get columns and call the predict_data function\n",
    "list_of_columns = df.columns\n",
    "df = df.withColumn(\"prediction\", predict_data(*list_of_columns))"
   ]
  }
 ],
 "metadata": {
  "kernelspec": {
   "display_name": "Python 3",
   "language": "python",
   "name": "python3"
  },
  "language_info": {
   "name": "python",
   "version": "3.11.0 (main, Oct 24 2022, 18:26:48) [MSC v.1933 64 bit (AMD64)]"
  },
  "orig_nbformat": 4,
  "vscode": {
   "interpreter": {
    "hash": "499aeda78e3d1a488af8e70b760e1e0ac7e9b9572d87f3fa348e05c933e3adb6"
   }
  }
 },
 "nbformat": 4,
 "nbformat_minor": 2
}

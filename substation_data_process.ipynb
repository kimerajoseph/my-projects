{
 "cells": [
  {
   "cell_type": "code",
   "execution_count": 4,
   "metadata": {},
   "outputs": [
    {
     "data": {
      "text/plain": [
       "True"
      ]
     },
     "execution_count": 4,
     "metadata": {},
     "output_type": "execute_result"
    }
   ],
   "source": [
    "import pandas as pd\n",
    "#import pymysql\n",
    "from sqlalchemy import create_engine\n",
    "from dotenv import load_dotenv\n",
    "import os\n",
    "from datetime import datetime, timedelta\n",
    "\n",
    "load_dotenv()"
   ]
  },
  {
   "cell_type": "code",
   "execution_count": 5,
   "metadata": {},
   "outputs": [],
   "source": [
    "host = os.getenv(\"HOST\")\n",
    "db_username = os.getenv(\"DB_USERNAME\")\n",
    "password = os.getenv(\"PASSWORD\")\n",
    "db_name = os.getenv(\"LOCAL_DB\")\n",
    "port = os.getenv(\"PORT\")\n",
    "\n",
    "engine = create_engine(f'mysql+pymysql://root:{password}@{host}/{db_name}')"
   ]
  },
  {
   "attachments": {},
   "cell_type": "markdown",
   "metadata": {},
   "source": [
    "## create bins for installed capacity"
   ]
  },
  {
   "cell_type": "code",
   "execution_count": 6,
   "metadata": {},
   "outputs": [],
   "source": [
    "substation_details = pd.read_excel(\"substation details.xlsx\", sheet_name=0, index_col='no')\n",
    "bins = [0, 40, 80, 160, 320, 1000, 2000]\n",
    "labels = [1,2,3,4,5,6]\n",
    "substation_details['capacity_band'] = pd.cut(substation_details['installed_capacity_(mw)'], bins=bins, labels=labels)\n",
    "substation_details.head()"
   ]
  },
  {
   "cell_type": "code",
   "execution_count": 7,
   "metadata": {},
   "outputs": [],
   "source": [
    "import numpy as np\n",
    "substation_details['capacity_band'] = np.where(substation_details['installed_capacity_(mw)']==0,0,substation_details['capacity_band'].astype(int))\n",
    "substation_details.head()"
   ]
  },
  {
   "attachments": {},
   "cell_type": "markdown",
   "metadata": {},
   "source": [
    "## Assign codes to the locations"
   ]
  },
  {
   "cell_type": "code",
   "execution_count": 22,
   "metadata": {},
   "outputs": [
    {
     "data": {
      "text/plain": [
       "central            14\n",
       "eastern             7\n",
       "western             6\n",
       "central western     1\n",
       "north western       1\n",
       "north eastern       1\n",
       "northern            1\n",
       "Name: region, dtype: int64"
      ]
     },
     "execution_count": 22,
     "metadata": {},
     "output_type": "execute_result"
    }
   ],
   "source": [
    "substation_details['region'].value_counts()"
   ]
  },
  {
   "attachments": {},
   "cell_type": "markdown",
   "metadata": {},
   "source": [
    "## assign codes yo regions depending on their importance \n"
   ]
  },
  {
   "cell_type": "code",
   "execution_count": 23,
   "metadata": {},
   "outputs": [],
   "source": [
    "region_ranks = {\"central\":5,\"eastern\":4,\"western\":3}\n",
    "def classify_region(row):\n",
    "    # if key in dict, return value. Else, return 1\n",
    "    return region_ranks.get(row,2)"
   ]
  },
  {
   "cell_type": "code",
   "execution_count": 24,
   "metadata": {},
   "outputs": [
    {
     "data": {
      "text/plain": [
       "5    14\n",
       "4     7\n",
       "3     6\n",
       "2     4\n",
       "Name: region_code, dtype: int64"
      ]
     },
     "execution_count": 24,
     "metadata": {},
     "output_type": "execute_result"
    }
   ],
   "source": [
    "substation_details['region_code'] = substation_details['region'].apply(lambda row: classify_region(row))\n",
    "substation_details['region_code'].value_counts()"
   ]
  },
  {
   "cell_type": "code",
   "execution_count": 26,
   "metadata": {},
   "outputs": [],
   "source": [
    "substation_details.to_sql(name=\"substation_details\", con=engine, if_exists=\"replace\")"
   ]
  },
  {
   "cell_type": "code",
   "execution_count": null,
   "metadata": {},
   "outputs": [],
   "source": []
  }
 ],
 "metadata": {
  "kernelspec": {
   "display_name": "base",
   "language": "python",
   "name": "python3"
  },
  "language_info": {
   "codemirror_mode": {
    "name": "ipython",
    "version": 3
   },
   "file_extension": ".py",
   "mimetype": "text/x-python",
   "name": "python",
   "nbconvert_exporter": "python",
   "pygments_lexer": "ipython3",
   "version": "3.8.8"
  },
  "orig_nbformat": 4,
  "vscode": {
   "interpreter": {
    "hash": "ad2bdc8ecc057115af97d19610ffacc2b4e99fae6737bb82f5d7fb13d2f2c186"
   }
  }
 },
 "nbformat": 4,
 "nbformat_minor": 2
}

{
 "cells": [
  {
   "cell_type": "code",
   "execution_count": 4,
   "metadata": {},
   "outputs": [
    {
     "data": {
      "text/plain": [
       "True"
      ]
     },
     "execution_count": 4,
     "metadata": {},
     "output_type": "execute_result"
    }
   ],
   "source": [
    "import pandas as pd\n",
    "#import pymysql\n",
    "from sqlalchemy import create_engine\n",
    "from dotenv import load_dotenv\n",
    "import os\n",
    "from datetime import datetime, timedelta\n",
    "\n",
    "load_dotenv()"
   ]
  },
  {
   "cell_type": "code",
   "execution_count": 5,
   "metadata": {},
   "outputs": [],
   "source": [
    "host = os.getenv(\"HOST\")\n",
    "db_username = os.getenv(\"DB_USERNAME\")\n",
    "password = os.getenv(\"PASSWORD\")\n",
    "db_name = os.getenv(\"LOCAL_DB\")\n",
    "port = os.getenv(\"PORT\")\n",
    "\n",
    "engine = create_engine(f'mysql+pymysql://root:{password}@{host}/{db_name}')"
   ]
  },
  {
   "attachments": {},
   "cell_type": "markdown",
   "metadata": {},
   "source": [
    "## create bins for installed capacity"
   ]
  },
  {
   "cell_type": "code",
   "execution_count": 6,
   "metadata": {},
   "outputs": [],
   "source": [
    "substation_details = pd.read_excel(\"substation details.xlsx\", sheet_name=0, index_col='no')\n",
    "bins = [0, 40, 80, 160, 320, 1000, 2000]\n",
    "labels = [1,2,3,4,5,6]\n",
    "substation_details['capacity_band'] = pd.cut(substation_details['installed_capacity_(mw)'], bins=bins, labels=labels)\n",
    "substation_details.head()"
   ]
  },
  {
   "cell_type": "code",
   "execution_count": 7,
   "metadata": {},
   "outputs": [],
   "source": [
    "import numpy as np\n",
    "substation_details['capacity_band'] = np.where(substation_details['installed_capacity_(mw)']==0,0,substation_details['capacity_band'].astype(int))\n",
    "substation_details.head()"
   ]
  },
  {
   "attachments": {},
   "cell_type": "markdown",
   "metadata": {},
   "source": [
    "## Assign codes to the locations"
   ]
  },
  {
   "cell_type": "code",
   "execution_count": 22,
   "metadata": {},
   "outputs": [
    {
     "data": {
      "text/plain": [
       "central            14\n",
       "eastern             7\n",
       "western             6\n",
       "central western     1\n",
       "north western       1\n",
       "north eastern       1\n",
       "northern            1\n",
       "Name: region, dtype: int64"
      ]
     },
     "execution_count": 22,
     "metadata": {},
     "output_type": "execute_result"
    }
   ],
   "source": [
    "substation_details['region'].value_counts()"
   ]
  },
  {
   "attachments": {},
   "cell_type": "markdown",
   "metadata": {},
   "source": [
    "## assign codes yo regions depending on their importance \n"
   ]
  },
  {
   "cell_type": "code",
   "execution_count": 23,
   "metadata": {},
   "outputs": [],
   "source": [
    "region_ranks = {\"central\":5,\"eastern\":4,\"western\":3}\n",
    "def classify_region(row):\n",
    "    # if key in dict, return value. Else, return 1\n",
    "    return region_ranks.get(row,2)"
   ]
  },
  {
   "cell_type": "code",
   "execution_count": 24,
   "metadata": {},
   "outputs": [
    {
     "data": {
      "text/plain": [
       "5    14\n",
       "4     7\n",
       "3     6\n",
       "2     4\n",
       "Name: region_code, dtype: int64"
      ]
     },
     "execution_count": 24,
     "metadata": {},
     "output_type": "execute_result"
    }
   ],
   "source": [
    "substation_details['region_code'] = substation_details['region'].apply(lambda row: classify_region(row))\n",
    "substation_details['region_code'].value_counts()"
   ]
  },
  {
   "cell_type": "code",
   "execution_count": 26,
   "metadata": {},
   "outputs": [],
   "source": [
    "substation_details.to_sql(name=\"substation_details\", con=engine, if_exists=\"replace\")"
   ]
  },
  {
   "attachments": {},
   "cell_type": "markdown",
   "metadata": {},
   "source": [
    "### STORE PROCESSED SUBSTATION DETAILS DATA TO S3"
   ]
  },
  {
   "cell_type": "code",
   "execution_count": 27,
   "metadata": {},
   "outputs": [],
   "source": [
    "s3_bucket = os.getenv(\"BUCKET_NAME\")\n",
    "project_folder = os.getenv(\"GRID_FOLDER\")"
   ]
  },
  {
   "cell_type": "code",
   "execution_count": 29,
   "metadata": {},
   "outputs": [
    {
     "data": {
      "text/html": [
       "<div>\n",
       "<style scoped>\n",
       "    .dataframe tbody tr th:only-of-type {\n",
       "        vertical-align: middle;\n",
       "    }\n",
       "\n",
       "    .dataframe tbody tr th {\n",
       "        vertical-align: top;\n",
       "    }\n",
       "\n",
       "    .dataframe thead th {\n",
       "        text-align: right;\n",
       "    }\n",
       "</style>\n",
       "<table border=\"1\" class=\"dataframe\">\n",
       "  <thead>\n",
       "    <tr style=\"text-align: right;\">\n",
       "      <th></th>\n",
       "      <th>index</th>\n",
       "      <th>no</th>\n",
       "      <th>substation_acronym</th>\n",
       "      <th>substation_name</th>\n",
       "      <th>voltage</th>\n",
       "      <th>voltage_levels</th>\n",
       "      <th>installed_capacity_(mw)</th>\n",
       "      <th>region</th>\n",
       "      <th>generators</th>\n",
       "      <th>critical_level</th>\n",
       "      <th>comments</th>\n",
       "      <th>capacity_band</th>\n",
       "      <th>region_code</th>\n",
       "    </tr>\n",
       "  </thead>\n",
       "  <tbody>\n",
       "    <tr>\n",
       "      <th>0</th>\n",
       "      <td>0</td>\n",
       "      <td>1</td>\n",
       "      <td>mskw</td>\n",
       "      <td>masaka west</td>\n",
       "      <td>220/132/33</td>\n",
       "      <td>3</td>\n",
       "      <td>540</td>\n",
       "      <td>central</td>\n",
       "      <td>0</td>\n",
       "      <td>3</td>\n",
       "      <td>supplies masaka city and surroundings</td>\n",
       "      <td>5</td>\n",
       "      <td>5</td>\n",
       "    </tr>\n",
       "    <tr>\n",
       "      <th>1</th>\n",
       "      <td>1</td>\n",
       "      <td>2</td>\n",
       "      <td>nkda</td>\n",
       "      <td>nkenda</td>\n",
       "      <td>220/132/33</td>\n",
       "      <td>3</td>\n",
       "      <td>40</td>\n",
       "      <td>western</td>\n",
       "      <td>1</td>\n",
       "      <td>4</td>\n",
       "      <td>IPPs and Hima cement</td>\n",
       "      <td>1</td>\n",
       "      <td>3</td>\n",
       "    </tr>\n",
       "    <tr>\n",
       "      <th>2</th>\n",
       "      <td>2</td>\n",
       "      <td>3</td>\n",
       "      <td>owfs</td>\n",
       "      <td>owen falls</td>\n",
       "      <td>132/66/33</td>\n",
       "      <td>3</td>\n",
       "      <td>380</td>\n",
       "      <td>eastern</td>\n",
       "      <td>1</td>\n",
       "      <td>5</td>\n",
       "      <td>evacuates over 380 MW</td>\n",
       "      <td>5</td>\n",
       "      <td>4</td>\n",
       "    </tr>\n",
       "    <tr>\n",
       "      <th>3</th>\n",
       "      <td>3</td>\n",
       "      <td>4</td>\n",
       "      <td>homa</td>\n",
       "      <td>hoima</td>\n",
       "      <td>132/33</td>\n",
       "      <td>2</td>\n",
       "      <td>40</td>\n",
       "      <td>western</td>\n",
       "      <td>1</td>\n",
       "      <td>3</td>\n",
       "      <td>supplies hoima city and surroundings. Evacuate...</td>\n",
       "      <td>1</td>\n",
       "      <td>3</td>\n",
       "    </tr>\n",
       "    <tr>\n",
       "      <th>4</th>\n",
       "      <td>4</td>\n",
       "      <td>5</td>\n",
       "      <td>ofex</td>\n",
       "      <td>owen falls extension</td>\n",
       "      <td>132/33</td>\n",
       "      <td>2</td>\n",
       "      <td>0</td>\n",
       "      <td>eastern</td>\n",
       "      <td>1</td>\n",
       "      <td>5</td>\n",
       "      <td>200 MW dam connected here</td>\n",
       "      <td>0</td>\n",
       "      <td>4</td>\n",
       "    </tr>\n",
       "  </tbody>\n",
       "</table>\n",
       "</div>"
      ],
      "text/plain": [
       "   index  no substation_acronym       substation_name     voltage  \\\n",
       "0      0   1               mskw           masaka west  220/132/33   \n",
       "1      1   2               nkda                nkenda  220/132/33   \n",
       "2      2   3               owfs            owen falls   132/66/33   \n",
       "3      3   4               homa                 hoima      132/33   \n",
       "4      4   5               ofex  owen falls extension      132/33   \n",
       "\n",
       "   voltage_levels  installed_capacity_(mw)   region  generators  \\\n",
       "0               3                      540  central           0   \n",
       "1               3                       40  western           1   \n",
       "2               3                      380  eastern           1   \n",
       "3               2                       40  western           1   \n",
       "4               2                        0  eastern           1   \n",
       "\n",
       "   critical_level                                           comments  \\\n",
       "0               3              supplies masaka city and surroundings   \n",
       "1               4                               IPPs and Hima cement   \n",
       "2               5                              evacuates over 380 MW   \n",
       "3               3  supplies hoima city and surroundings. Evacuate...   \n",
       "4               5                          200 MW dam connected here   \n",
       "\n",
       "   capacity_band  region_code  \n",
       "0              5            5  \n",
       "1              1            3  \n",
       "2              5            4  \n",
       "3              1            3  \n",
       "4              0            4  "
      ]
     },
     "execution_count": 29,
     "metadata": {},
     "output_type": "execute_result"
    }
   ],
   "source": [
    "substation_details = pd.read_sql(\"SELECT * FROM substation_details\", con=engine)\n",
    "substation_details.head()"
   ]
  },
  {
   "cell_type": "code",
   "execution_count": 30,
   "metadata": {},
   "outputs": [
    {
     "data": {
      "text/plain": [
       "{'paths': ['s3://my-projects-jkimera/grid-project/substation_details.parquet'],\n",
       " 'partitions_values': {}}"
      ]
     },
     "execution_count": 30,
     "metadata": {},
     "output_type": "execute_result"
    }
   ],
   "source": [
    "import awswrangler as wr\n",
    "\n",
    "\n",
    "wr.s3.to_parquet(\n",
    "df=substation_details,\n",
    "path=f's3://{s3_bucket}/{project_folder}/substation_details.parquet',\n",
    ")\n"
   ]
  },
  {
   "cell_type": "code",
   "execution_count": null,
   "metadata": {},
   "outputs": [],
   "source": []
  }
 ],
 "metadata": {
  "kernelspec": {
   "display_name": "base",
   "language": "python",
   "name": "python3"
  },
  "language_info": {
   "codemirror_mode": {
    "name": "ipython",
    "version": 3
   },
   "file_extension": ".py",
   "mimetype": "text/x-python",
   "name": "python",
   "nbconvert_exporter": "python",
   "pygments_lexer": "ipython3",
   "version": "3.8.8 (default, Apr 13 2021, 15:08:03) [MSC v.1916 64 bit (AMD64)]"
  },
  "orig_nbformat": 4,
  "vscode": {
   "interpreter": {
    "hash": "ad2bdc8ecc057115af97d19610ffacc2b4e99fae6737bb82f5d7fb13d2f2c186"
   }
  }
 },
 "nbformat": 4,
 "nbformat_minor": 2
}

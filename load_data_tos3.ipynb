{
 "cells": [
  {
   "cell_type": "code",
   "execution_count": 23,
   "metadata": {},
   "outputs": [],
   "source": [
    "from dotenv import load_dotenv\n",
    "import os\n",
    "load_dotenv()\n",
    "import awswrangler as wr\n",
    "import pandas as pd"
   ]
  },
  {
   "cell_type": "code",
   "execution_count": 24,
   "metadata": {},
   "outputs": [],
   "source": [
    "s3_bucket = os.getenv(\"BUCKET_NAME\")\n",
    "project_folder = os.getenv(\"GRID_FOLDER\")\n"
   ]
  },
  {
   "cell_type": "code",
   "execution_count": 25,
   "metadata": {},
   "outputs": [],
   "source": [
    "def upload_data(file_name):\n",
    "    if file_name.split(\".\")[-1] == \"xlsx\":\n",
    "        my_file = file_name.split(\".\")[0] # remove the extension to get filename\n",
    "        data = pd.read_excel(file_name, sheet_name=0, index_col='no') # read first sheet\n",
    "\n",
    "    elif file_name.split(\".\")[-1] == \"csv\":\n",
    "        data = pd.read_csv(file_name) \n",
    "        my_file = file_name.split(\".\")[0] # remove the extension to get filename\n",
    "    wr.s3.to_parquet(\n",
    "        df=data,\n",
    "        path=f's3://{s3_bucket}/{project_folder}/{my_file}.parquet',\n",
    "    )\n",
    "\n",
    "#upload_data(file_name=\"substation details.xlsx\")"
   ]
  },
  {
   "cell_type": "code",
   "execution_count": 26,
   "metadata": {},
   "outputs": [],
   "source": [
    "files_to_upload = [\"test.csv\",\"substation details.xlsx\",\"final_data.csv\"]\n",
    "for file in files_to_upload:\n",
    "    upload_data(file_name=file)"
   ]
  },
  {
   "attachments": {},
   "cell_type": "markdown",
   "metadata": {},
   "source": [
    "### read data from s3"
   ]
  },
  {
   "cell_type": "code",
   "execution_count": 27,
   "metadata": {},
   "outputs": [],
   "source": [
    "# s3_data = wr.s3.read_parquet(\"s3://my-projects-jkimera/grid-project/substation details.parquet\")\n",
    "# print(s3_data.shape)\n",
    "# s3_data.head()"
   ]
  },
  {
   "cell_type": "code",
   "execution_count": 28,
   "metadata": {},
   "outputs": [],
   "source": [
    "# excel_data = pd.read_excel(\"substation details.xlsx\",sheet_name=0, index_col='no')\n",
    "# excel_data.reset_index(inplace=True)\n",
    "# print(excel_data.shape)\n",
    "# excel_data.head()"
   ]
  },
  {
   "cell_type": "code",
   "execution_count": null,
   "metadata": {},
   "outputs": [],
   "source": []
  }
 ],
 "metadata": {
  "kernelspec": {
   "display_name": "base",
   "language": "python",
   "name": "python3"
  },
  "language_info": {
   "codemirror_mode": {
    "name": "ipython",
    "version": 3
   },
   "file_extension": ".py",
   "mimetype": "text/x-python",
   "name": "python",
   "nbconvert_exporter": "python",
   "pygments_lexer": "ipython3",
   "version": "3.8.8 (default, Apr 13 2021, 15:08:03) [MSC v.1916 64 bit (AMD64)]"
  },
  "orig_nbformat": 4,
  "vscode": {
   "interpreter": {
    "hash": "ad2bdc8ecc057115af97d19610ffacc2b4e99fae6737bb82f5d7fb13d2f2c186"
   }
  }
 },
 "nbformat": 4,
 "nbformat_minor": 2
}

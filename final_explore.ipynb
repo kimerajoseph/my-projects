{
 "cells": [
  {
   "cell_type": "code",
   "execution_count": 207,
   "metadata": {},
   "outputs": [],
   "source": [
    "import pandas as pd\n"
   ]
  },
  {
   "cell_type": "code",
   "execution_count": null,
   "metadata": {},
   "outputs": [],
   "source": [
    "data = pd.read_csv(\"test.csv\", header=None)\n",
    "data.head()"
   ]
  },
  {
   "cell_type": "code",
   "execution_count": 209,
   "metadata": {},
   "outputs": [],
   "source": [
    "def clean_data(data):\n",
    "    # rename columns\n",
    "    data.columns = ['datetime', 'event']\n",
    "    # filter data \n",
    "    data = data[(data.datetime != \"time\") | (data.event != \"event\") ]\n",
    "    #data[\"event\"] = data[\"event\"].str.lower().str.replace(\" \",\"_\")\n",
    "    data[\"event\"] = data[\"event\"].str.lower()\n",
    "\n",
    "    # covert datetime column to datetime object. SHOULD BE DONE AFTER FILTERING. ELSE, ERRORS\n",
    "    data.datetime = pd.to_datetime(data.datetime)\n",
    "    data[\"date\"] = data.datetime.dt.date\n",
    "    data[\"month\"] = data.datetime.dt.month_name()\n",
    "    data['weekday'] = data.datetime.dt.day_name()\n",
    "    data[\"time\"] = data.datetime.dt.time   \n",
    "\n",
    "    return data\n",
    "\n"
   ]
  },
  {
   "cell_type": "code",
   "execution_count": 210,
   "metadata": {},
   "outputs": [],
   "source": [
    "classify_list = [\"trip cct fault\",\"station supply fail\",\"dc power failure\",\"cb lockout locked\",\"cb backup trip\",\n",
    "\"cb back prot trip\",\"dc fault\",\"diff comm fail fault\", \"cb err status\",\"sf6 lockout\", \"relay fault\"]\n",
    "def classify_events(row):\n",
    "    #print(row)  \n",
    "    for s in classify_list:\n",
    "        if s in str(row):\n",
    "            return \"critical\"\n",
    "\n",
    "    # mind the indentation. Else, the for loop might check only the first event in the \"classify_list\"\n",
    "    else:\n",
    "        return \"normal\""
   ]
  },
  {
   "cell_type": "code",
   "execution_count": null,
   "metadata": {},
   "outputs": [],
   "source": [
    "data = clean_data(data)\n",
    "data.head()"
   ]
  },
  {
   "cell_type": "code",
   "execution_count": null,
   "metadata": {},
   "outputs": [],
   "source": [
    "\n",
    "data['type'] = data['event'].apply(lambda row: classify_events(row))\n",
    "data.head()"
   ]
  },
  {
   "cell_type": "code",
   "execution_count": 213,
   "metadata": {},
   "outputs": [],
   "source": [
    "#critical_data.event.value_counts()"
   ]
  },
  {
   "cell_type": "code",
   "execution_count": null,
   "metadata": {},
   "outputs": [],
   "source": [
    "data[\"substation_acronym\"] = data[\"event\"].apply(lambda x: x.split()[0])\n",
    "data[\"fault_voltage\"] = data[\"event\"].apply(lambda x: x.split()[1])\n",
    "data.head()"
   ]
  },
  {
   "cell_type": "code",
   "execution_count": null,
   "metadata": {},
   "outputs": [],
   "source": [
    "critical_data = data[data.type == 'critical']\n",
    "print(critical_data.shape)\n",
    "critical_data.head()"
   ]
  },
  {
   "cell_type": "code",
   "execution_count": 216,
   "metadata": {},
   "outputs": [],
   "source": [
    "# default: keep=\"first\"\n",
    "# substations = data.drop_duplicates([\"substation_acronym\"])\n",
    "# substations.to_csv(\"substation_acronyms1.csv\")"
   ]
  },
  {
   "cell_type": "code",
   "execution_count": 217,
   "metadata": {},
   "outputs": [],
   "source": [
    "substations = data.drop_duplicates(subset=['substation_acronym'], keep='first')\n",
    "substations['substation_acronym'].to_csv(\"substation_acronyms2.csv\")"
   ]
  },
  {
   "cell_type": "code",
   "execution_count": null,
   "metadata": {},
   "outputs": [],
   "source": [
    "excel_data = pd.read_excel(\"substation details.xlsx\",sheet_name=\"substations\", index_col='no')\n",
    "excel_data.reset_index(inplace=True)\n",
    "excel_data.head()"
   ]
  },
  {
   "cell_type": "code",
   "execution_count": 219,
   "metadata": {},
   "outputs": [],
   "source": [
    "#data.to_csv(\"processed_data.csv\")"
   ]
  },
  {
   "attachments": {},
   "cell_type": "markdown",
   "metadata": {},
   "source": [
    "## Combine dataframe. include substation details"
   ]
  },
  {
   "cell_type": "code",
   "execution_count": null,
   "metadata": {},
   "outputs": [],
   "source": [
    "## read df\n",
    "substation_data_columns = ['substation_acronym',\"critical level\",\"substation name\"]\n",
    "substation_data = pd.read_excel(\"substation details.xlsx\", index_col=\"no\",sheet_name=0)\n",
    "final_data = data.merge(substation_data[substation_data_columns], how=\"inner\", on=\"substation_acronym\")\n",
    "final_data.head()"
   ]
  },
  {
   "cell_type": "code",
   "execution_count": 223,
   "metadata": {},
   "outputs": [],
   "source": [
    "final_data.to_csv(\"final_data.csv\")"
   ]
  }
 ],
 "metadata": {
  "kernelspec": {
   "display_name": "base",
   "language": "python",
   "name": "python3"
  },
  "language_info": {
   "codemirror_mode": {
    "name": "ipython",
    "version": 3
   },
   "file_extension": ".py",
   "mimetype": "text/x-python",
   "name": "python",
   "nbconvert_exporter": "python",
   "pygments_lexer": "ipython3",
   "version": "3.8.8 (default, Apr 13 2021, 15:08:03) [MSC v.1916 64 bit (AMD64)]"
  },
  "orig_nbformat": 4,
  "vscode": {
   "interpreter": {
    "hash": "ad2bdc8ecc057115af97d19610ffacc2b4e99fae6737bb82f5d7fb13d2f2c186"
   }
  }
 },
 "nbformat": 4,
 "nbformat_minor": 2
}

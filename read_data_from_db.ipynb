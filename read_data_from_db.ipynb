{
 "cells": [
  {
   "attachments": {},
   "cell_type": "markdown",
   "metadata": {},
   "source": [
    "## Reads raw events data from SCADA DB"
   ]
  },
  {
   "cell_type": "code",
   "execution_count": 1,
   "metadata": {},
   "outputs": [
    {
     "data": {
      "text/plain": [
       "True"
      ]
     },
     "execution_count": 1,
     "metadata": {},
     "output_type": "execute_result"
    }
   ],
   "source": [
    "import pandas as pd\n",
    "#import pymysql\n",
    "from sqlalchemy import create_engine\n",
    "from dotenv import load_dotenv\n",
    "import os\n",
    "from datetime import datetime, timedelta\n",
    "\n",
    "load_dotenv()"
   ]
  },
  {
   "cell_type": "code",
   "execution_count": 2,
   "metadata": {},
   "outputs": [],
   "source": [
    "host = os.getenv(\"HOST\")\n",
    "db_username = os.getenv(\"DB_USERNAME\")\n",
    "password = os.getenv(\"PASSWORD\")\n",
    "db_name = os.getenv(\"LOCAL_DB\")\n",
    "port = os.getenv(\"PORT\")\n",
    "\n",
    "# engine = create_engine(f'mysql+pymysql://root:{password}@{host}/{db_name}')"
   ]
  },
  {
   "cell_type": "code",
   "execution_count": 3,
   "metadata": {},
   "outputs": [],
   "source": [
    "engine = create_engine(f'mysql+pymysql://root:{password}@{host}/{db_name}')"
   ]
  },
  {
   "cell_type": "code",
   "execution_count": 4,
   "metadata": {},
   "outputs": [
    {
     "data": {
      "text/html": [
       "<div>\n",
       "<style scoped>\n",
       "    .dataframe tbody tr th:only-of-type {\n",
       "        vertical-align: middle;\n",
       "    }\n",
       "\n",
       "    .dataframe tbody tr th {\n",
       "        vertical-align: top;\n",
       "    }\n",
       "\n",
       "    .dataframe thead th {\n",
       "        text-align: right;\n",
       "    }\n",
       "</style>\n",
       "<table border=\"1\" class=\"dataframe\">\n",
       "  <thead>\n",
       "    <tr style=\"text-align: right;\">\n",
       "      <th></th>\n",
       "      <th>index</th>\n",
       "      <th>datetime</th>\n",
       "      <th>event</th>\n",
       "    </tr>\n",
       "  </thead>\n",
       "  <tbody>\n",
       "    <tr>\n",
       "      <th>0</th>\n",
       "      <td>7051</td>\n",
       "      <td>2022-11-13 00:02:38</td>\n",
       "      <td>TORO 110V DC Normal</td>\n",
       "    </tr>\n",
       "    <tr>\n",
       "      <th>1</th>\n",
       "      <td>7052</td>\n",
       "      <td>2022-11-13 00:02:38</td>\n",
       "      <td>TORO 48V DC Normal</td>\n",
       "    </tr>\n",
       "    <tr>\n",
       "      <th>2</th>\n",
       "      <td>7053</td>\n",
       "      <td>2022-11-13 00:02:38</td>\n",
       "      <td>TORO UMEME CHARGER Normal</td>\n",
       "    </tr>\n",
       "    <tr>\n",
       "      <th>3</th>\n",
       "      <td>7054</td>\n",
       "      <td>2022-11-13 00:26:10</td>\n",
       "      <td>KWAD 33 REAC CB Closed N</td>\n",
       "    </tr>\n",
       "    <tr>\n",
       "      <th>4</th>\n",
       "      <td>7055</td>\n",
       "      <td>2022-11-13 00:26:33</td>\n",
       "      <td>MASK 33 REAC 1 CB Closed N</td>\n",
       "    </tr>\n",
       "  </tbody>\n",
       "</table>\n",
       "</div>"
      ],
      "text/plain": [
       "   index            datetime                       event\n",
       "0   7051 2022-11-13 00:02:38         TORO 110V DC Normal\n",
       "1   7052 2022-11-13 00:02:38          TORO 48V DC Normal\n",
       "2   7053 2022-11-13 00:02:38   TORO UMEME CHARGER Normal\n",
       "3   7054 2022-11-13 00:26:10    KWAD 33 REAC CB Closed N\n",
       "4   7055 2022-11-13 00:26:33  MASK 33 REAC 1 CB Closed N"
      ]
     },
     "execution_count": 4,
     "metadata": {},
     "output_type": "execute_result"
    }
   ],
   "source": [
    "past_days=37\n",
    "sql_query = \"SELECT * FROM scada_data WHERE DATE(datetime) = %(serach_date)s\"\n",
    "my_params={\"serach_date\":datetime.strftime(datetime.now() - timedelta(past_days), '%Y-%m-%d')}\n",
    "filtered_data = pd.read_sql(sql_query,con=engine, params=my_params)\n",
    "\n",
    "filtered_data.head()"
   ]
  },
  {
   "attachments": {},
   "cell_type": "markdown",
   "metadata": {},
   "source": [
    "## Combine data with substation_data"
   ]
  },
  {
   "cell_type": "code",
   "execution_count": null,
   "metadata": {},
   "outputs": [],
   "source": []
  }
 ],
 "metadata": {
  "kernelspec": {
   "display_name": "base",
   "language": "python",
   "name": "python3"
  },
  "language_info": {
   "codemirror_mode": {
    "name": "ipython",
    "version": 3
   },
   "file_extension": ".py",
   "mimetype": "text/x-python",
   "name": "python",
   "nbconvert_exporter": "python",
   "pygments_lexer": "ipython3",
   "version": "3.8.8 (default, Apr 13 2021, 15:08:03) [MSC v.1916 64 bit (AMD64)]"
  },
  "orig_nbformat": 4,
  "vscode": {
   "interpreter": {
    "hash": "ad2bdc8ecc057115af97d19610ffacc2b4e99fae6737bb82f5d7fb13d2f2c186"
   }
  }
 },
 "nbformat": 4,
 "nbformat_minor": 2
}

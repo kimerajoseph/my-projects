{
 "cells": [
  {
   "cell_type": "code",
   "execution_count": 2,
   "metadata": {},
   "outputs": [],
   "source": [
    "from pyspark.sql import SparkSession\n",
    "# spark = SparkSession.builder.appName('Datacamp Pyspark Tutorial').config('spark.memory.offHeap.enabled','true')\\\n",
    "#         .config('spark.memory.offHeap.size','10g').getOrCreate()\n",
    "\n",
    "spark = SparkSession.builder.appName('Datacamp Pyspark Tutorial').getOrCreate()"
   ]
  },
  {
   "cell_type": "code",
   "execution_count": 3,
   "metadata": {},
   "outputs": [],
   "source": [
    "df = spark.read.csv('datacamp_ecommerce.csv',header=True,escape='\\'')"
   ]
  },
  {
   "cell_type": "code",
   "execution_count": 4,
   "metadata": {},
   "outputs": [
    {
     "name": "stdout",
     "output_type": "stream",
     "text": [
      "root\n",
      " |-- InvoiceNo: string (nullable = true)\n",
      " |-- StockCode: string (nullable = true)\n",
      " |-- Description: string (nullable = true)\n",
      " |-- Quantity: string (nullable = true)\n",
      " |-- InvoiceDate: string (nullable = true)\n",
      " |-- UnitPrice: string (nullable = true)\n",
      " |-- CustomerID: string (nullable = true)\n",
      " |-- Country: string (nullable = true)\n",
      "\n"
     ]
    }
   ],
   "source": [
    "df.printSchema()"
   ]
  },
  {
   "cell_type": "code",
   "execution_count": 5,
   "metadata": {},
   "outputs": [
    {
     "name": "stdout",
     "output_type": "stream",
     "text": [
      "+---------+---------+----------------------------------+--------+------------+---------+----------+--------------+\n",
      "|InvoiceNo|StockCode|Description                       |Quantity|InvoiceDate |UnitPrice|CustomerID|Country       |\n",
      "+---------+---------+----------------------------------+--------+------------+---------+----------+--------------+\n",
      "|536365   |85123A   |WHITE HANGING HEART T-LIGHT HOLDER|6       |12/1/10 8:26|2.55     |17850     |United Kingdom|\n",
      "|536365   |71053    |WHITE METAL LANTERN               |6       |12/1/10 8:26|3.39     |17850     |United Kingdom|\n",
      "|536365   |84406B   |CREAM CUPID HEARTS COAT HANGER    |8       |12/1/10 8:26|2.75     |17850     |United Kingdom|\n",
      "+---------+---------+----------------------------------+--------+------------+---------+----------+--------------+\n",
      "only showing top 3 rows\n",
      "\n"
     ]
    }
   ],
   "source": [
    "df.show(3,0)"
   ]
  },
  {
   "cell_type": "code",
   "execution_count": 6,
   "metadata": {},
   "outputs": [
    {
     "data": {
      "text/plain": [
       "541909"
      ]
     },
     "execution_count": 6,
     "metadata": {},
     "output_type": "execute_result"
    }
   ],
   "source": [
    "df.count()"
   ]
  },
  {
   "cell_type": "code",
   "execution_count": 7,
   "metadata": {},
   "outputs": [
    {
     "data": {
      "text/plain": [
       "38"
      ]
     },
     "execution_count": 7,
     "metadata": {},
     "output_type": "execute_result"
    }
   ],
   "source": [
    "df.select('Country').distinct().count() "
   ]
  },
  {
   "cell_type": "code",
   "execution_count": 8,
   "metadata": {},
   "outputs": [
    {
     "data": {
      "text/plain": [
       "4373"
      ]
     },
     "execution_count": 8,
     "metadata": {},
     "output_type": "execute_result"
    }
   ],
   "source": [
    "df.select('CustomerID').distinct().count() "
   ]
  },
  {
   "attachments": {},
   "cell_type": "markdown",
   "metadata": {},
   "source": [
    "## RENAME COLUMNS"
   ]
  },
  {
   "cell_type": "code",
   "execution_count": 9,
   "metadata": {},
   "outputs": [
    {
     "name": "stdout",
     "output_type": "stream",
     "text": [
      "+---------+---------+-----------------------------------+---+------------+-----+----------+--------------+\n",
      "|InvoiceNo|StockCode|Description                        |QTY|InvoiceDate |PRICE|CustomerID|Country       |\n",
      "+---------+---------+-----------------------------------+---+------------+-----+----------+--------------+\n",
      "|536365   |85123A   |WHITE HANGING HEART T-LIGHT HOLDER |6  |12/1/10 8:26|2.55 |17850     |United Kingdom|\n",
      "|536365   |71053    |WHITE METAL LANTERN                |6  |12/1/10 8:26|3.39 |17850     |United Kingdom|\n",
      "|536365   |84406B   |CREAM CUPID HEARTS COAT HANGER     |8  |12/1/10 8:26|2.75 |17850     |United Kingdom|\n",
      "|536365   |84029G   |KNITTED UNION FLAG HOT WATER BOTTLE|6  |12/1/10 8:26|3.39 |17850     |United Kingdom|\n",
      "|536365   |84029E   |RED WOOLLY HOTTIE WHITE HEART.     |6  |12/1/10 8:26|3.39 |17850     |United Kingdom|\n",
      "+---------+---------+-----------------------------------+---+------------+-----+----------+--------------+\n",
      "only showing top 5 rows\n",
      "\n"
     ]
    }
   ],
   "source": [
    "df = (df.withColumnRenamed('Quantity','QTY').withColumnRenamed('UnitPrice', 'PRICE'))\n",
    "df.show(5,0)"
   ]
  },
  {
   "attachments": {},
   "cell_type": "markdown",
   "metadata": {},
   "source": [
    "## convert column names to lower case"
   ]
  },
  {
   "cell_type": "code",
   "execution_count": 10,
   "metadata": {},
   "outputs": [
    {
     "name": "stdout",
     "output_type": "stream",
     "text": [
      "+---------+---------+----------------------------------+---+------------+-----+----------+--------------+\n",
      "|invoiceno|stockcode|description                       |qty|invoicedate |price|customerid|country       |\n",
      "+---------+---------+----------------------------------+---+------------+-----+----------+--------------+\n",
      "|536365   |85123A   |WHITE HANGING HEART T-LIGHT HOLDER|6  |12/1/10 8:26|2.55 |17850     |United Kingdom|\n",
      "|536365   |71053    |WHITE METAL LANTERN               |6  |12/1/10 8:26|3.39 |17850     |United Kingdom|\n",
      "|536365   |84406B   |CREAM CUPID HEARTS COAT HANGER    |8  |12/1/10 8:26|2.75 |17850     |United Kingdom|\n",
      "+---------+---------+----------------------------------+---+------------+-----+----------+--------------+\n",
      "only showing top 3 rows\n",
      "\n"
     ]
    }
   ],
   "source": [
    "for col in df.columns:\n",
    "    df = df.withColumnRenamed(col, col.lower())\n",
    "df.show(3,0)"
   ]
  },
  {
   "cell_type": "code",
   "execution_count": 11,
   "metadata": {},
   "outputs": [
    {
     "name": "stdout",
     "output_type": "stream",
     "text": [
      "+--------------+---------+\n",
      "|country       |invoiceno|\n",
      "+--------------+---------+\n",
      "|United Kingdom|536365   |\n",
      "|United Kingdom|536365   |\n",
      "|United Kingdom|536365   |\n",
      "+--------------+---------+\n",
      "only showing top 3 rows\n",
      "\n"
     ]
    }
   ],
   "source": [
    "df.select('country','invoiceno').show(3,0)"
   ]
  },
  {
   "attachments": {},
   "cell_type": "markdown",
   "metadata": {},
   "source": [
    "#### Get shape of df"
   ]
  },
  {
   "cell_type": "code",
   "execution_count": 12,
   "metadata": {},
   "outputs": [
    {
     "data": {
      "text/plain": [
       "(541909, 8)"
      ]
     },
     "execution_count": 12,
     "metadata": {},
     "output_type": "execute_result"
    }
   ],
   "source": [
    "(df.count(), len(df.columns))"
   ]
  },
  {
   "attachments": {},
   "cell_type": "markdown",
   "metadata": {},
   "source": [
    "## Processing date column"
   ]
  },
  {
   "cell_type": "code",
   "execution_count": 13,
   "metadata": {},
   "outputs": [],
   "source": [
    "from pyspark.sql.functions import *\n",
    "from pyspark.sql.types import *"
   ]
  },
  {
   "cell_type": "code",
   "execution_count": 14,
   "metadata": {},
   "outputs": [
    {
     "name": "stdout",
     "output_type": "stream",
     "text": [
      "+-------------------+\n",
      "|          max(date)|\n",
      "+-------------------+\n",
      "|2012-12-10 16:21:00|\n",
      "+-------------------+\n",
      "\n"
     ]
    }
   ],
   "source": [
    "spark.sql(\"set spark.sql.legacy.timeParserPolicy=LEGACY\")\n",
    "df = df.withColumn('date',to_timestamp(\"invoicedate\", 'yy/MM/dd HH:mm'))\n",
    "df.select(max(\"date\")).show()"
   ]
  },
  {
   "cell_type": "code",
   "execution_count": 15,
   "metadata": {},
   "outputs": [
    {
     "name": "stdout",
     "output_type": "stream",
     "text": [
      "+----------+----+\n",
      "|CustomerID|year|\n",
      "+----------+----+\n",
      "|13313     |1   |\n",
      "|13313     |1   |\n",
      "|13313     |1   |\n",
      "|13313     |1   |\n",
      "|13313     |1   |\n",
      "+----------+----+\n",
      "only showing top 5 rows\n",
      "\n"
     ]
    }
   ],
   "source": [
    "df = df.withColumn(\"year\",year('date'))\n",
    "df2 = df.where(df.year < 10)\n",
    "df2.select('CustomerID','year').show(5,0)"
   ]
  },
  {
   "attachments": {},
   "cell_type": "markdown",
   "metadata": {},
   "source": [
    "Years below 2010 are truncated eg 1 meaning 2001 \n",
    "We are adding 2000 years (24000 months) to nomalize the date column "
   ]
  },
  {
   "cell_type": "code",
   "execution_count": 16,
   "metadata": {},
   "outputs": [
    {
     "name": "stdout",
     "output_type": "stream",
     "text": [
      "root\n",
      " |-- invoiceno: string (nullable = true)\n",
      " |-- stockcode: string (nullable = true)\n",
      " |-- description: string (nullable = true)\n",
      " |-- qty: string (nullable = true)\n",
      " |-- invoicedate: string (nullable = true)\n",
      " |-- price: string (nullable = true)\n",
      " |-- customerid: string (nullable = true)\n",
      " |-- country: string (nullable = true)\n",
      " |-- year: integer (nullable = true)\n",
      " |-- date: timestamp (nullable = true)\n",
      "\n"
     ]
    }
   ],
   "source": [
    "import pyspark.sql.functions as F \n",
    "\n",
    "# create new column with processed date\n",
    "df = df.withColumn(\n",
    "    'final_date',\n",
    "    F.when((F.col(\"year\") < 10) , F.add_months(df['date'], 24000))\\\n",
    "    .otherwise(df['date'])\n",
    ")\n",
    "\n",
    "# drop original date column\n",
    "df = df.drop(col(\"date\")) \n",
    "df = (df.withColumnRenamed('final_date','date'))\n",
    "df.printSchema()"
   ]
  },
  {
   "cell_type": "code",
   "execution_count": 17,
   "metadata": {},
   "outputs": [
    {
     "name": "stdout",
     "output_type": "stream",
     "text": [
      "+-------------------+\n",
      "|          min(date)|\n",
      "+-------------------+\n",
      "|2001-04-11 00:00:00|\n",
      "+-------------------+\n",
      "\n"
     ]
    }
   ],
   "source": [
    "df.select(min(\"date\")).show()"
   ]
  },
  {
   "attachments": {},
   "cell_type": "markdown",
   "metadata": {},
   "source": [
    "## Processing price\n",
    "Column has negative values. We replace them with their absolute values"
   ]
  },
  {
   "cell_type": "code",
   "execution_count": 18,
   "metadata": {},
   "outputs": [
    {
     "name": "stdout",
     "output_type": "stream",
     "text": [
      "+-------+-----------------+\n",
      "|summary|            price|\n",
      "+-------+-----------------+\n",
      "|  count|           541909|\n",
      "|   mean|4.611113626089702|\n",
      "| stddev|96.75985306117958|\n",
      "|    min|        -11062.06|\n",
      "|    max|            99.96|\n",
      "+-------+-----------------+\n",
      "\n"
     ]
    }
   ],
   "source": [
    "df.select('price').describe().show()"
   ]
  },
  {
   "cell_type": "code",
   "execution_count": 19,
   "metadata": {},
   "outputs": [
    {
     "name": "stdout",
     "output_type": "stream",
     "text": [
      "+-------+-----------------+\n",
      "|summary|            price|\n",
      "+-------+-----------------+\n",
      "|  count|           541909|\n",
      "|   mean|4.692766154466288|\n",
      "| stddev| 96.7559273518238|\n",
      "|    min|              0.0|\n",
      "|    max|          38970.0|\n",
      "+-------+-----------------+\n",
      "\n"
     ]
    }
   ],
   "source": [
    "df = df.withColumn('price',F.abs(df.price))\n",
    "df.select('price').describe().show()"
   ]
  },
  {
   "cell_type": "code",
   "execution_count": 20,
   "metadata": {},
   "outputs": [
    {
     "name": "stdout",
     "output_type": "stream",
     "text": [
      "+---------+-------------+\n",
      "|country  |country_count|\n",
      "+---------+-------------+\n",
      "|Sweden   |8            |\n",
      "|Singapore|1            |\n",
      "|Germany  |95           |\n",
      "+---------+-------------+\n",
      "only showing top 3 rows\n",
      "\n"
     ]
    }
   ],
   "source": [
    "df.groupBy('country').agg(countDistinct('customerid').alias('country_count')).show(3,0)"
   ]
  },
  {
   "cell_type": "code",
   "execution_count": 21,
   "metadata": {},
   "outputs": [
    {
     "name": "stdout",
     "output_type": "stream",
     "text": [
      "+--------------+-------------+\n",
      "|country       |country_count|\n",
      "+--------------+-------------+\n",
      "|United Kingdom|3950         |\n",
      "|Germany       |95           |\n",
      "|France        |87           |\n",
      "|Spain         |31           |\n",
      "|Belgium       |25           |\n",
      "+--------------+-------------+\n",
      "only showing top 5 rows\n",
      "\n"
     ]
    }
   ],
   "source": [
    "df.groupBy('country').agg(countDistinct('customerid').alias('country_count')).orderBy(desc('country_count')).show(5,0)\n",
    "\n",
    "#df.groupBy('country').agg(countDistinct('customerid').alias('country_count')).orderBy(desc('country_county')).show()\n",
    "    "
   ]
  },
  {
   "cell_type": "code",
   "execution_count": 22,
   "metadata": {},
   "outputs": [
    {
     "name": "stdout",
     "output_type": "stream",
     "text": [
      "+------------+\n",
      "|invoicedate |\n",
      "+------------+\n",
      "|12/1/10 8:26|\n",
      "|12/1/10 8:26|\n",
      "|12/1/10 8:26|\n",
      "|12/1/10 8:26|\n",
      "|12/1/10 8:26|\n",
      "+------------+\n",
      "only showing top 5 rows\n",
      "\n"
     ]
    }
   ],
   "source": [
    "df.select('invoicedate').show(5,0)"
   ]
  },
  {
   "attachments": {},
   "cell_type": "markdown",
   "metadata": {},
   "source": [
    "### Get the most recent order\n",
    "### convert date column into datetime and use min/max"
   ]
  },
  {
   "cell_type": "code",
   "execution_count": 23,
   "metadata": {},
   "outputs": [
    {
     "name": "stdout",
     "output_type": "stream",
     "text": [
      "+-------------------+\n",
      "|          min(date)|\n",
      "+-------------------+\n",
      "|2001-04-11 00:00:00|\n",
      "+-------------------+\n",
      "\n"
     ]
    }
   ],
   "source": [
    "df.select(min(\"date\")).show()"
   ]
  },
  {
   "cell_type": "code",
   "execution_count": 24,
   "metadata": {},
   "outputs": [
    {
     "name": "stdout",
     "output_type": "stream",
     "text": [
      "root\n",
      " |-- invoiceno: string (nullable = true)\n",
      " |-- stockcode: string (nullable = true)\n",
      " |-- description: string (nullable = true)\n",
      " |-- qty: string (nullable = true)\n",
      " |-- invoicedate: string (nullable = true)\n",
      " |-- price: double (nullable = true)\n",
      " |-- customerid: string (nullable = true)\n",
      " |-- country: string (nullable = true)\n",
      " |-- year: integer (nullable = true)\n",
      " |-- date: timestamp (nullable = true)\n",
      "\n"
     ]
    }
   ],
   "source": [
    "df = df.withColumn('year', year('date').alias(\"year\"))\n",
    "df.printSchema()"
   ]
  },
  {
   "cell_type": "code",
   "execution_count": 25,
   "metadata": {},
   "outputs": [
    {
     "data": {
      "text/plain": [
       "2515"
      ]
     },
     "execution_count": 25,
     "metadata": {},
     "output_type": "execute_result"
    }
   ],
   "source": [
    "df1 = df.where(df.price<='0')\n",
    "df1.count()"
   ]
  },
  {
   "cell_type": "code",
   "execution_count": 26,
   "metadata": {},
   "outputs": [
    {
     "name": "stdout",
     "output_type": "stream",
     "text": [
      "+-------+------------------+\n",
      "|summary|              year|\n",
      "+-------+------------------+\n",
      "|  count|            232959|\n",
      "|   mean|2008.0056490627105|\n",
      "| stddev| 3.566655812906784|\n",
      "|    min|              2001|\n",
      "|    max|              2012|\n",
      "+-------+------------------+\n",
      "\n"
     ]
    }
   ],
   "source": [
    "df.describe(\"year\").show()"
   ]
  },
  {
   "cell_type": "code",
   "execution_count": 27,
   "metadata": {},
   "outputs": [
    {
     "name": "stdout",
     "output_type": "stream",
     "text": [
      "+----+\n",
      "|year|\n",
      "+----+\n",
      "|null|\n",
      "|2012|\n",
      "|2001|\n",
      "|2003|\n",
      "|2004|\n",
      "|2002|\n",
      "|2006|\n",
      "|2005|\n",
      "|2007|\n",
      "|2008|\n",
      "|2009|\n",
      "|2010|\n",
      "|2011|\n",
      "+----+\n",
      "\n"
     ]
    }
   ],
   "source": [
    "df.select('year').distinct().show()"
   ]
  },
  {
   "cell_type": "code",
   "execution_count": 28,
   "metadata": {},
   "outputs": [
    {
     "name": "stdout",
     "output_type": "stream",
     "text": [
      "root\n",
      " |-- invoiceno: string (nullable = true)\n",
      " |-- stockcode: string (nullable = true)\n",
      " |-- description: string (nullable = true)\n",
      " |-- qty: string (nullable = true)\n",
      " |-- invoicedate: string (nullable = true)\n",
      " |-- price: double (nullable = true)\n",
      " |-- customerid: string (nullable = true)\n",
      " |-- country: string (nullable = true)\n",
      " |-- year: integer (nullable = true)\n",
      " |-- date: timestamp (nullable = true)\n",
      "\n"
     ]
    }
   ],
   "source": [
    "df.printSchema()"
   ]
  },
  {
   "attachments": {},
   "cell_type": "markdown",
   "metadata": {},
   "source": [
    "## Prepare data for ML\n",
    "### USE recency, frequency, and monetary value (RFM)."
   ]
  },
  {
   "cell_type": "code",
   "execution_count": 29,
   "metadata": {},
   "outputs": [],
   "source": [
    "#  Recency: How recently has each customer made a purchase?\n",
    "# Frequency: How often have they bought something?\n",
    "# Monetary Value: How much money do they spend on average when making purchases?"
   ]
  },
  {
   "attachments": {},
   "cell_type": "markdown",
   "metadata": {},
   "source": [
    "## Assign recency value to customer. subtract latest date for customer purchase from earliest date"
   ]
  },
  {
   "cell_type": "code",
   "execution_count": 30,
   "metadata": {},
   "outputs": [],
   "source": [
    "# create a column \"from_date\" and assign it a constant value of min date\n",
    "df = df.withColumn(\"from_date\", lit(\"01/4/11 00:00\"))\n",
    "df = df.withColumn('from_date',to_timestamp(\"from_date\", 'yy/MM/dd HH:mm'))\n",
    "#df.show(5,0)\n",
    "\n",
    "df2=df.withColumn('from_date',to_timestamp(col('from_date'))).withColumn('recency',col(\"date\")\\\n",
    "    .cast(\"long\") - col('from_date').cast(\"long\"))"
   ]
  },
  {
   "cell_type": "code",
   "execution_count": 31,
   "metadata": {},
   "outputs": [
    {
     "name": "stdout",
     "output_type": "stream",
     "text": [
      "+-------------------+---------+----------+\n",
      "|from_date          |recency  |customerid|\n",
      "+-------------------+---------+----------+\n",
      "|2001-04-11 00:00:00|339236760|17850     |\n",
      "|2001-04-11 00:00:00|339236760|17850     |\n",
      "|2001-04-11 00:00:00|339236760|17850     |\n",
      "|2001-04-11 00:00:00|339236760|17850     |\n",
      "|2001-04-11 00:00:00|339236760|17850     |\n",
      "+-------------------+---------+----------+\n",
      "only showing top 5 rows\n",
      "\n"
     ]
    }
   ],
   "source": [
    "df2.select(\"from_date\",\"recency\",\"customerid\").show(5,0)"
   ]
  },
  {
   "attachments": {},
   "cell_type": "markdown",
   "metadata": {},
   "source": [
    "### RECENCY SHOULD NOT HAVE A NEGATIVE VALUE"
   ]
  },
  {
   "cell_type": "code",
   "execution_count": 32,
   "metadata": {},
   "outputs": [
    {
     "name": "stdout",
     "output_type": "stream",
     "text": [
      "+-------+--------------------+\n",
      "|summary|             recency|\n",
      "+-------+--------------------+\n",
      "|  count|              232959|\n",
      "|   mean|2.2777186048806873E8|\n",
      "| stddev|1.1208771477985704E8|\n",
      "|    min|                   0|\n",
      "|    max|           368209260|\n",
      "+-------+--------------------+\n",
      "\n"
     ]
    }
   ],
   "source": [
    "df2.select('recency').describe().show()"
   ]
  },
  {
   "cell_type": "code",
   "execution_count": 33,
   "metadata": {},
   "outputs": [
    {
     "name": "stdout",
     "output_type": "stream",
     "text": [
      "+----------+------------+\n",
      "|customerid|max(recency)|\n",
      "+----------+------------+\n",
      "|16250     |339242340   |\n",
      "|15574     |341941560   |\n",
      "|15555     |360348780   |\n",
      "|15271     |360337620   |\n",
      "|17714     |null        |\n",
      "+----------+------------+\n",
      "only showing top 5 rows\n",
      "\n"
     ]
    }
   ],
   "source": [
    "#df2 = df2.join(df2.groupBy('CustomerID').agg(max('recency').alias('recency')),on='recency',how='leftsemi')\n",
    "df2.groupBy(\"customerid\").agg(max(\"recency\")).alias(\"recency\").show(5,0)"
   ]
  },
  {
   "cell_type": "code",
   "execution_count": 34,
   "metadata": {},
   "outputs": [
    {
     "name": "stdout",
     "output_type": "stream",
     "text": [
      "+---------+---------+---------+----------------------------------+---+------------+-----+----------+--------------+----+-------------------+-------------------+\n",
      "|recency  |invoiceno|stockcode|description                       |qty|invoicedate |price|customerid|country       |year|date               |from_date          |\n",
      "+---------+---------+---------+----------------------------------+---+------------+-----+----------+--------------+----+-------------------+-------------------+\n",
      "|339237300|536369   |21756    |BATH BUILDING BLOCK WORD          |3  |12/1/10 8:35|5.95 |13047     |United Kingdom|2012|2012-01-10 08:35:00|2001-04-11 00:00:00|\n",
      "|339238800|536371   |22086    |PAPER CHAIN KIT 50'S CHRISTMAS    |80 |12/1/10 9:00|2.55 |13748     |United Kingdom|2012|2012-01-10 09:00:00|2001-04-11 00:00:00|\n",
      "|339240720|536375   |85123A   |WHITE HANGING HEART T-LIGHT HOLDER|6  |12/1/10 9:32|2.55 |17850     |United Kingdom|2012|2012-01-10 09:32:00|2001-04-11 00:00:00|\n",
      "|339240720|536375   |71053    |WHITE METAL LANTERN               |6  |12/1/10 9:32|3.39 |17850     |United Kingdom|2012|2012-01-10 09:32:00|2001-04-11 00:00:00|\n",
      "|339240720|536375   |84406B   |CREAM CUPID HEARTS COAT HANGER    |8  |12/1/10 9:32|2.75 |17850     |United Kingdom|2012|2012-01-10 09:32:00|2001-04-11 00:00:00|\n",
      "+---------+---------+---------+----------------------------------+---+------------+-----+----------+--------------+----+-------------------+-------------------+\n",
      "only showing top 5 rows\n",
      "\n"
     ]
    }
   ],
   "source": [
    "df2 = df2.join(df2.groupBy('CustomerID').agg(max('recency').alias('recency')),on='recency',how='leftsemi')\n",
    "df2.show(5,0)"
   ]
  },
  {
   "cell_type": "code",
   "execution_count": 35,
   "metadata": {},
   "outputs": [
    {
     "name": "stdout",
     "output_type": "stream",
     "text": [
      "root\n",
      " |-- recency: long (nullable = true)\n",
      " |-- invoiceno: string (nullable = true)\n",
      " |-- stockcode: string (nullable = true)\n",
      " |-- description: string (nullable = true)\n",
      " |-- qty: string (nullable = true)\n",
      " |-- invoicedate: string (nullable = true)\n",
      " |-- price: double (nullable = true)\n",
      " |-- customerid: string (nullable = true)\n",
      " |-- country: string (nullable = true)\n",
      " |-- year: integer (nullable = true)\n",
      " |-- date: timestamp (nullable = true)\n",
      " |-- from_date: timestamp (nullable = true)\n",
      "\n"
     ]
    }
   ],
   "source": [
    "df2.printSchema()"
   ]
  },
  {
   "attachments": {},
   "cell_type": "markdown",
   "metadata": {},
   "source": [
    "### FREQUENCY"
   ]
  },
  {
   "cell_type": "code",
   "execution_count": 36,
   "metadata": {},
   "outputs": [
    {
     "name": "stdout",
     "output_type": "stream",
     "text": [
      "+----------+---------+\n",
      "|customerid|frequency|\n",
      "+----------+---------+\n",
      "|16250     |14       |\n",
      "|15574     |121      |\n",
      "|15271     |81       |\n",
      "|15555     |153      |\n",
      "|17757     |215      |\n",
      "+----------+---------+\n",
      "only showing top 5 rows\n",
      "\n"
     ]
    }
   ],
   "source": [
    "df_freq = df2.groupBy(\"customerid\").agg(count(\"invoicedate\").alias('frequency'))\n",
    "#df_freq = df2.groupBy('CustomerID').agg(count('InvoiceDate').alias('frequency'))\n",
    "df_freq.show(5,0)"
   ]
  },
  {
   "attachments": {},
   "cell_type": "markdown",
   "metadata": {},
   "source": [
    "### Combine the new df with the previous one"
   ]
  },
  {
   "cell_type": "code",
   "execution_count": 37,
   "metadata": {},
   "outputs": [
    {
     "name": "stdout",
     "output_type": "stream",
     "text": [
      "root\n",
      " |-- customerid: string (nullable = true)\n",
      " |-- recency: long (nullable = true)\n",
      " |-- invoiceno: string (nullable = true)\n",
      " |-- stockcode: string (nullable = true)\n",
      " |-- description: string (nullable = true)\n",
      " |-- qty: string (nullable = true)\n",
      " |-- invoicedate: string (nullable = true)\n",
      " |-- price: double (nullable = true)\n",
      " |-- country: string (nullable = true)\n",
      " |-- year: integer (nullable = true)\n",
      " |-- date: timestamp (nullable = true)\n",
      " |-- from_date: timestamp (nullable = true)\n",
      " |-- frequency: long (nullable = false)\n",
      "\n"
     ]
    }
   ],
   "source": [
    "df3 = df2.join(df_freq,on='customerid',how='inner')\n",
    "df3.printSchema()"
   ]
  },
  {
   "cell_type": "code",
   "execution_count": 38,
   "metadata": {},
   "outputs": [
    {
     "name": "stdout",
     "output_type": "stream",
     "text": [
      "+----------+------------------+\n",
      "|customerid|amount            |\n",
      "+----------+------------------+\n",
      "|13047     |17.85             |\n",
      "|13748     |204.0             |\n",
      "|17850     |15.299999999999999|\n",
      "|17850     |20.34             |\n",
      "|17850     |22.0              |\n",
      "+----------+------------------+\n",
      "only showing top 5 rows\n",
      "\n"
     ]
    }
   ],
   "source": [
    "df3 = df3.withColumn(\"amount\", col('qty') * col(\"price\"))\n",
    "df3.select('customerid',\"amount\").show(5,0)"
   ]
  },
  {
   "cell_type": "code",
   "execution_count": 39,
   "metadata": {},
   "outputs": [
    {
     "name": "stdout",
     "output_type": "stream",
     "text": [
      "root\n",
      " |-- customerid: string (nullable = true)\n",
      " |-- recency: long (nullable = true)\n",
      " |-- invoiceno: string (nullable = true)\n",
      " |-- stockcode: string (nullable = true)\n",
      " |-- description: string (nullable = true)\n",
      " |-- qty: string (nullable = true)\n",
      " |-- invoicedate: string (nullable = true)\n",
      " |-- price: double (nullable = true)\n",
      " |-- country: string (nullable = true)\n",
      " |-- year: integer (nullable = true)\n",
      " |-- date: timestamp (nullable = true)\n",
      " |-- from_date: timestamp (nullable = true)\n",
      " |-- frequency: long (nullable = false)\n",
      " |-- amount: double (nullable = true)\n",
      "\n"
     ]
    }
   ],
   "source": [
    "df3.printSchema()"
   ]
  },
  {
   "attachments": {},
   "cell_type": "markdown",
   "metadata": {},
   "source": [
    "## Get the total amount spent per customer"
   ]
  },
  {
   "cell_type": "code",
   "execution_count": 40,
   "metadata": {},
   "outputs": [
    {
     "name": "stdout",
     "output_type": "stream",
     "text": [
      "+----------+------------------+\n",
      "|customerid|customer_total    |\n",
      "+----------+------------------+\n",
      "|14646     |69054.59          |\n",
      "|18102     |59069.880000000005|\n",
      "|14156     |32919.69000000001 |\n",
      "|14911     |30877.55          |\n",
      "|17511     |29603.910000000003|\n",
      "+----------+------------------+\n",
      "only showing top 5 rows\n",
      "\n"
     ]
    }
   ],
   "source": [
    "val_df = df3.groupBy('customerid').agg(sum(\"amount\").alias(\"customer_total\")).orderBy(\"customer_total\", ascending=False)\n",
    "val_df.show(5,0)"
   ]
  },
  {
   "cell_type": "code",
   "execution_count": 41,
   "metadata": {},
   "outputs": [],
   "source": [
    "final_df = val_df.join(df3,on='customerid',how='inner')"
   ]
  },
  {
   "cell_type": "code",
   "execution_count": 42,
   "metadata": {},
   "outputs": [
    {
     "name": "stdout",
     "output_type": "stream",
     "text": [
      "+---------+---------+------------------+----------+\n",
      "|recency  |frequency|customer_total    |customerid|\n",
      "+---------+---------+------------------+----------+\n",
      "|339242340|14       |226.14            |16250     |\n",
      "|341941560|121      |375.65            |15574     |\n",
      "|360337620|81       |1044.99           |15271     |\n",
      "|360348780|153      |1177.3199999999997|15555     |\n",
      "|5270400  |81       |1044.99           |15271     |\n",
      "+---------+---------+------------------+----------+\n",
      "only showing top 5 rows\n",
      "\n"
     ]
    }
   ],
   "source": [
    "final_df = final_df.select(['recency','frequency','customer_total','customerid']).distinct()\n",
    "final_df.show(5,0)"
   ]
  },
  {
   "cell_type": "code",
   "execution_count": 43,
   "metadata": {},
   "outputs": [
    {
     "name": "stdout",
     "output_type": "stream",
     "text": [
      "root\n",
      " |-- recency: long (nullable = true)\n",
      " |-- frequency: long (nullable = false)\n",
      " |-- customer_total: double (nullable = true)\n",
      " |-- customerid: string (nullable = true)\n",
      "\n"
     ]
    }
   ],
   "source": [
    "final_df.printSchema()"
   ]
  },
  {
   "attachments": {},
   "cell_type": "markdown",
   "metadata": {},
   "source": [
    "## STANDARDIZATION"
   ]
  },
  {
   "cell_type": "code",
   "execution_count": 44,
   "metadata": {},
   "outputs": [],
   "source": [
    "from pyspark.ml.feature import VectorAssembler\n",
    "from pyspark.ml.feature import StandardScaler\n",
    "\n",
    "assemble=VectorAssembler(inputCols=[\n",
    "    'recency','frequency','customer_total'\n",
    "], outputCol='features')\n",
    "\n",
    "# combines input columns into a list under one column \"features\"\n",
    "assembled_data=assemble.transform(final_df)\n",
    "\n",
    "scale=StandardScaler(inputCol='features',outputCol='standardized')\n",
    "data_scale=scale.fit(assembled_data)\n",
    "data_scale_output=data_scale.transform(assembled_data)"
   ]
  },
  {
   "cell_type": "code",
   "execution_count": 45,
   "metadata": {},
   "outputs": [
    {
     "name": "stdout",
     "output_type": "stream",
     "text": [
      "+--------------------------+------------------------------------------------------------+\n",
      "|features                  |standardized                                                |\n",
      "+--------------------------+------------------------------------------------------------+\n",
      "|[3.3924234E8,14.0,226.14] |[3.0362792093010005,0.06603798473309043,0.03996852911303932]|\n",
      "|[3.4194156E8,121.0,375.65]|[3.060437707816632,0.5707568680502815,0.06639328717304864]  |\n",
      "|[3.6033762E8,81.0,1044.99]|[3.2250857128712305,0.38207691167002317,0.1846940534086626] |\n",
      "+--------------------------+------------------------------------------------------------+\n",
      "only showing top 3 rows\n",
      "\n"
     ]
    }
   ],
   "source": [
    "data_scale_output.select('features','standardized').show(3,0)"
   ]
  },
  {
   "attachments": {},
   "cell_type": "markdown",
   "metadata": {},
   "source": [
    "## Building the ML clustering model"
   ]
  },
  {
   "cell_type": "code",
   "execution_count": 46,
   "metadata": {},
   "outputs": [],
   "source": [
    "from pyspark.ml.clustering import KMeans\n",
    "from pyspark.ml.evaluation import ClusteringEvaluator\n",
    "import numpy as np\n",
    "\n",
    "cost = np.zeros(10)\n",
    "\n",
    "evaluator = ClusteringEvaluator(predictionCol='prediction', featuresCol='standardized',metricName='silhouette',\\\n",
    "             distanceMeasure='squaredEuclidean')\n",
    "\n",
    "for i in range(2,10):\n",
    "    KMeans_algo=KMeans(featuresCol='standardized', k=i)\n",
    "    KMeans_fit=KMeans_algo.fit(data_scale_output)\n",
    "    output=KMeans_fit.transform(data_scale_output)\n",
    "    cost[i] = KMeans_fit.summary.trainingCost"
   ]
  },
  {
   "cell_type": "code",
   "execution_count": 47,
   "metadata": {},
   "outputs": [
    {
     "data": {
      "text/plain": [
       "array([15463.94938238,  8605.9012332 ,  7231.6826219 ,  5964.6683155 ,\n",
       "        5015.75146873,  4274.19638644,  4274.59349938,  3076.89511872])"
      ]
     },
     "execution_count": 47,
     "metadata": {},
     "output_type": "execute_result"
    }
   ],
   "source": [
    "cost[2:]"
   ]
  },
  {
   "cell_type": "code",
   "execution_count": 48,
   "metadata": {},
   "outputs": [
    {
     "data": {
      "image/png": "[encoded data removed]",
      "text/plain": [
       "<Figure size 640x480 with 1 Axes>"
      ]
     },
     "metadata": {},
     "output_type": "display_data"
    }
   ],
   "source": [
    "import pandas as pd\n",
    "#import pylab as pl\n",
    "import matplotlib.pyplot as plt\n",
    "df_cost = pd.DataFrame(cost[2:])\n",
    "df_cost.columns = [\"cost\"]\n",
    "new_col = range(2,10)\n",
    "df_cost.insert(0, 'cluster', new_col)\n",
    "plt.plot(df_cost.cluster, df_cost.cost)\n",
    "plt.xlabel('Number of Clusters')\n",
    "plt.ylabel('Score')\n",
    "plt.title('Elbow Curve')\n",
    "plt.show()"
   ]
  },
  {
   "attachments": {},
   "cell_type": "markdown",
   "metadata": {},
   "source": [
    "From the plot above, we can see that there is an inflection point that looks like an elbow at five. Due to this, we will proceed to build the K-Means algorithm with four clusters:"
   ]
  },
  {
   "cell_type": "code",
   "execution_count": 49,
   "metadata": {},
   "outputs": [],
   "source": [
    "KMeans_algo=KMeans(featuresCol='standardized', k=4)\n",
    "KMeans_fit=KMeans_algo.fit(data_scale_output)"
   ]
  },
  {
   "cell_type": "code",
   "execution_count": 50,
   "metadata": {},
   "outputs": [
    {
     "name": "stdout",
     "output_type": "stream",
     "text": [
      "root\n",
      " |-- recency: long (nullable = true)\n",
      " |-- frequency: long (nullable = false)\n",
      " |-- customer_total: double (nullable = true)\n",
      " |-- customerid: string (nullable = true)\n",
      " |-- features: vector (nullable = true)\n",
      " |-- standardized: vector (nullable = true)\n",
      " |-- prediction: integer (nullable = false)\n",
      "\n"
     ]
    }
   ],
   "source": [
    "preds=KMeans_fit.transform(data_scale_output)\n",
    "\n",
    "preds.printSchema()"
   ]
  },
  {
   "cell_type": "code",
   "execution_count": 51,
   "metadata": {},
   "outputs": [
    {
     "name": "stdout",
     "output_type": "stream",
     "text": [
      "+---------+---------+------------------+----------+\n",
      "|recency  |frequency|customer_total    |prediction|\n",
      "+---------+---------+------------------+----------+\n",
      "|339242340|14       |226.14            |1         |\n",
      "|341941560|121      |375.65            |1         |\n",
      "|360337620|81       |1044.99           |1         |\n",
      "|360348780|153      |1177.3199999999997|1         |\n",
      "|5270400  |81       |1044.99           |0         |\n",
      "+---------+---------+------------------+----------+\n",
      "only showing top 5 rows\n",
      "\n"
     ]
    }
   ],
   "source": [
    "preds.select(['recency','frequency','customer_total','prediction']).show(5,0)"
   ]
  },
  {
   "attachments": {},
   "cell_type": "markdown",
   "metadata": {},
   "source": [
    "## Cluster analysis"
   ]
  },
  {
   "cell_type": "code",
   "execution_count": 53,
   "metadata": {},
   "outputs": [
    {
     "data": {
      "image/png": "[encoded data removed]",
      "text/plain": [
       "<Figure size 640x480 with 1 Axes>"
      ]
     },
     "metadata": {},
     "output_type": "display_data"
    },
    {
     "data": {
      "image/png": "[encoded data removed]",
      "text/plain": [
       "<Figure size 640x480 with 1 Axes>"
      ]
     },
     "metadata": {},
     "output_type": "display_data"
    },
    {
     "data": {
      "image/png": "[encoded data removed]",
      "text/plain": [
       "<Figure size 640x480 with 1 Axes>"
      ]
     },
     "metadata": {},
     "output_type": "display_data"
    }
   ],
   "source": [
    "import matplotlib.pyplot as plt\n",
    "import seaborn as sns\n",
    "\n",
    "df_viz = preds.select('recency','frequency','customer_total','prediction')\n",
    "df_viz = df_viz.toPandas()\n",
    "avg_df = df_viz.groupby(['prediction'], as_index=False).mean()\n",
    "\n",
    "# sns.barplot(x=\"prediction\", y=\"recency\", data=df_viz)\n",
    "# plt.show()\n",
    "list1 = ['recency','frequency','customer_total']\n",
    "\n",
    "for i in list1:\n",
    "    sns.barplot(x='prediction',y=str(i),data=avg_df)\n",
    "    plt.show()"
   ]
  },
  {
   "cell_type": "code",
   "execution_count": 54,
   "metadata": {},
   "outputs": [
    {
     "data": {
      "text/html": [
       "<div>\n",
       "<style scoped>\n",
       "    .dataframe tbody tr th:only-of-type {\n",
       "        vertical-align: middle;\n",
       "    }\n",
       "\n",
       "    .dataframe tbody tr th {\n",
       "        vertical-align: top;\n",
       "    }\n",
       "\n",
       "    .dataframe thead th {\n",
       "        text-align: right;\n",
       "    }\n",
       "</style>\n",
       "<table border=\"1\" class=\"dataframe\">\n",
       "  <thead>\n",
       "    <tr style=\"text-align: right;\">\n",
       "      <th></th>\n",
       "      <th>prediction</th>\n",
       "      <th>recency</th>\n",
       "      <th>frequency</th>\n",
       "      <th>customer_total</th>\n",
       "    </tr>\n",
       "  </thead>\n",
       "  <tbody>\n",
       "    <tr>\n",
       "      <th>0</th>\n",
       "      <td>0</td>\n",
       "      <td>1.059445e+08</td>\n",
       "      <td>87.925166</td>\n",
       "      <td>1785.054334</td>\n",
       "    </tr>\n",
       "    <tr>\n",
       "      <th>1</th>\n",
       "      <td>1</td>\n",
       "      <td>3.003588e+08</td>\n",
       "      <td>64.318384</td>\n",
       "      <td>1159.337621</td>\n",
       "    </tr>\n",
       "    <tr>\n",
       "      <th>2</th>\n",
       "      <td>2</td>\n",
       "      <td>1.592854e+08</td>\n",
       "      <td>500.905172</td>\n",
       "      <td>31049.518190</td>\n",
       "    </tr>\n",
       "    <tr>\n",
       "      <th>3</th>\n",
       "      <td>3</td>\n",
       "      <td>1.825614e+08</td>\n",
       "      <td>1726.140845</td>\n",
       "      <td>20923.417887</td>\n",
       "    </tr>\n",
       "  </tbody>\n",
       "</table>\n",
       "</div>"
      ],
      "text/plain": [
       "   prediction       recency    frequency  customer_total\n",
       "0           0  1.059445e+08    87.925166     1785.054334\n",
       "1           1  3.003588e+08    64.318384     1159.337621\n",
       "2           2  1.592854e+08   500.905172    31049.518190\n",
       "3           3  1.825614e+08  1726.140845    20923.417887"
      ]
     },
     "execution_count": 54,
     "metadata": {},
     "output_type": "execute_result"
    }
   ],
   "source": [
    "avg_df"
   ]
  },
  {
   "attachments": {},
   "cell_type": "markdown",
   "metadata": {},
   "source": [
    "Here is an overview of characteristics displayed by customers in each cluster:\n",
    "\n",
    "Cluster 0: Customers in this segment display low recency, frequency, and monetary value. They rarely shop on the platform and are low potential customers who are likely to stop doing business with the ecommerce company. \n",
    "Cluster 1: Users in this cluster display high recency but haven’t been seen spending much on the platform. They also don’t visit the site often. This indicates that they might be newer customers who have just started doing business with the company.\n",
    "Cluster 2: Customers in this segment display medium recency and frequency and spend a lot of money on the platform. This indicates that they tend to buy high-value items or make bulk purchases.\n",
    "Cluster 3: The final segment comprises users who display high recency and make frequent purchases on the platform. However, they don’t spend much on the platform, which might mean that they tend to select cheaper items in each purchase."
   ]
  },
  {
   "cell_type": "code",
   "execution_count": null,
   "metadata": {},
   "outputs": [],
   "source": []
  }
 ],
 "metadata": {
  "kernelspec": {
   "display_name": "pyspark",
   "language": "python",
   "name": "python3"
  },
  "language_info": {
   "codemirror_mode": {
    "name": "ipython",
    "version": 3
   },
   "file_extension": ".py",
   "mimetype": "text/x-python",
   "name": "python",
   "nbconvert_exporter": "python",
   "pygments_lexer": "ipython3",
   "version": "3.9.15"
  },
  "orig_nbformat": 4,
  "vscode": {
   "interpreter": {
    "hash": "c514b9c04844004ab63cc3a4e06631e6e1aebb7cb88737a55e03cb6a20439d21"
   }
  }
 },
 "nbformat": 4,
 "nbformat_minor": 2
}
